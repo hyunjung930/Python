{
  "nbformat": 4,
  "nbformat_minor": 0,
  "metadata": {
    "colab": {
      "name": "통계데이터분석-주요 모듈 복습.ipynb",
      "provenance": [],
      "authorship_tag": "ABX9TyM1wPJfzKrfHPolp+x7d4Xh",
      "include_colab_link": true
    },
    "kernelspec": {
      "name": "python3",
      "display_name": "Python 3"
    },
    "language_info": {
      "name": "python"
    }
  },
  "cells": [
    {
      "cell_type": "markdown",
      "metadata": {
        "id": "view-in-github",
        "colab_type": "text"
      },
      "source": [
        "<a href=\"https://colab.research.google.com/github/hyunjung930/Python/blob/hyunjung/%ED%86%B5%EA%B3%84%EB%8D%B0%EC%9D%B4%ED%84%B0%EB%B6%84%EC%84%9D_%EC%A3%BC%EC%9A%94_%EB%AA%A8%EB%93%88_%EB%B3%B5%EC%8A%B5.ipynb\" target=\"_parent\"><img src=\"https://colab.research.google.com/assets/colab-badge.svg\" alt=\"Open In Colab\"/></a>"
      ]
    },
    {
      "cell_type": "markdown",
      "source": [
        "# Numpy 복습 P.133"
      ],
      "metadata": {
        "id": "Lqby2GOpn6MH"
      }
    },
    {
      "cell_type": "markdown",
      "source": [
        "장점 개요 - 행렬 계산이 편해졌다"
      ],
      "metadata": {
        "id": "nmj2GsIFoONB"
      }
    },
    {
      "cell_type": "code",
      "source": [
        "ls = [1,2,3,4,5]\n",
        "ls_twice = []\n",
        "for e in ls:\n",
        "  ls_twice.append(e*2)\n",
        "ls_twice"
      ],
      "metadata": {
        "colab": {
          "base_uri": "https://localhost:8080/"
        },
        "id": "4vJDpoqyn7F7",
        "outputId": "4b963ef4-bfb1-4c06-f042-bc1ab5c8cb88"
      },
      "execution_count": 2,
      "outputs": [
        {
          "output_type": "execute_result",
          "data": {
            "text/plain": [
              "[2, 4, 6, 8, 10]"
            ]
          },
          "metadata": {},
          "execution_count": 2
        }
      ]
    },
    {
      "cell_type": "code",
      "source": [
        "import numpy as np\n",
        "arr = np.array(ls)\n",
        "arr_twice = arr*2\n",
        "arr_twice"
      ],
      "metadata": {
        "colab": {
          "base_uri": "https://localhost:8080/"
        },
        "id": "gmX9I-0woDaT",
        "outputId": "bc93cb33-96ba-48e2-87e3-3fc953597d1f"
      },
      "execution_count": 18,
      "outputs": [
        {
          "output_type": "execute_result",
          "data": {
            "text/plain": [
              "array([ 2,  4,  6, 16,  8])"
            ]
          },
          "metadata": {},
          "execution_count": 18
        }
      ]
    },
    {
      "cell_type": "code",
      "source": [
        "arr = np.arange(10000)\n",
        "arr"
      ],
      "metadata": {
        "colab": {
          "base_uri": "https://localhost:8080/"
        },
        "id": "sfp5LcO0oSa0",
        "outputId": "c4e26911-7465-4ab6-da5d-44c586a9d3ed"
      },
      "execution_count": 19,
      "outputs": [
        {
          "output_type": "execute_result",
          "data": {
            "text/plain": [
              "array([   0,    1,    2, ..., 9997, 9998, 9999])"
            ]
          },
          "metadata": {},
          "execution_count": 19
        }
      ]
    },
    {
      "cell_type": "code",
      "source": [
        "arr = np.array(range(10000))\n",
        "arr"
      ],
      "metadata": {
        "colab": {
          "base_uri": "https://localhost:8080/"
        },
        "id": "azzG_T-RoeEK",
        "outputId": "87a465cf-7f1c-4a54-88eb-585d291cd132"
      },
      "execution_count": 17,
      "outputs": [
        {
          "output_type": "execute_result",
          "data": {
            "text/plain": [
              "array([   0,    1,    2, ..., 9997, 9998, 9999])"
            ]
          },
          "metadata": {},
          "execution_count": 17
        }
      ]
    },
    {
      "cell_type": "markdown",
      "source": [
        "wrapping이란?"
      ],
      "metadata": {
        "id": "1sMmSSironTe"
      }
    },
    {
      "cell_type": "code",
      "source": [
        "def madd(a,b):\n",
        "  return a+b"
      ],
      "metadata": {
        "id": "fnsq0O-rol6K"
      },
      "execution_count": 22,
      "outputs": []
    },
    {
      "cell_type": "code",
      "source": [
        "def msum(ls):\n",
        "  s = 0\n",
        "  for e in ls:\n",
        "    s = madd(s,e)\n",
        "  return s"
      ],
      "metadata": {
        "id": "CTagPr3uos83"
      },
      "execution_count": 23,
      "outputs": []
    },
    {
      "cell_type": "code",
      "source": [
        "def count(ls):\n",
        "  cnt = 0\n",
        "  for _ in ls:\n",
        "    cnt+=1\n",
        "  return cnt"
      ],
      "metadata": {
        "id": "wfepS7kKo8OR"
      },
      "execution_count": 24,
      "outputs": []
    },
    {
      "cell_type": "code",
      "source": [
        "ls = [1,2,3,8,4]\n",
        "s = msum(ls)\n",
        "l = count(ls)\n",
        "print(f'평균 : {s/l :.2f}')"
      ],
      "metadata": {
        "colab": {
          "base_uri": "https://localhost:8080/"
        },
        "id": "eISjVFCmpCNS",
        "outputId": "f2aa5374-d7f4-445b-c688-c8dac7da70c1"
      },
      "execution_count": 25,
      "outputs": [
        {
          "output_type": "stream",
          "name": "stdout",
          "text": [
            "평균 : 3.60\n"
          ]
        }
      ]
    },
    {
      "cell_type": "code",
      "source": [
        "def average(ls):\n",
        "  return msum(ls)"
      ],
      "metadata": {
        "id": "UroFiUqpo1Y3"
      },
      "execution_count": 26,
      "outputs": []
    },
    {
      "cell_type": "code",
      "source": [
        "print(f'평균: {average(ls):.2f}') # 이미 만들어진 함수를 "
      ],
      "metadata": {
        "colab": {
          "base_uri": "https://localhost:8080/"
        },
        "id": "C0ah_gekpMqK",
        "outputId": "816b0093-6eb7-4f95-d114-ba8ecca99a5c"
      },
      "execution_count": 27,
      "outputs": [
        {
          "output_type": "stream",
          "name": "stdout",
          "text": [
            "평균: 18.00\n"
          ]
        }
      ]
    },
    {
      "cell_type": "markdown",
      "source": [
        "#텐서\n"
      ],
      "metadata": {
        "id": "6zzrDDfIqJYL"
      }
    },
    {
      "cell_type": "code",
      "source": [
        "data = np.random.rand(5,2,3)\n",
        "data"
      ],
      "metadata": {
        "colab": {
          "base_uri": "https://localhost:8080/"
        },
        "id": "y1vsqhGCqKdc",
        "outputId": "89392312-cbf5-4ff3-c2b6-37ff8ba50cdd"
      },
      "execution_count": 28,
      "outputs": [
        {
          "output_type": "execute_result",
          "data": {
            "text/plain": [
              "array([[[0.42086956, 0.81527406, 0.93160169],\n",
              "        [0.89302299, 0.30593853, 0.0983934 ]],\n",
              "\n",
              "       [[0.45006097, 0.0077597 , 0.43132143],\n",
              "        [0.85122057, 0.21932564, 0.16311396]],\n",
              "\n",
              "       [[0.0583691 , 0.93364962, 0.71346816],\n",
              "        [0.49330805, 0.8733665 , 0.93834256]],\n",
              "\n",
              "       [[0.41322095, 0.70956878, 0.42513303],\n",
              "        [0.26433827, 0.63240553, 0.0175253 ]],\n",
              "\n",
              "       [[0.61603012, 0.48454929, 0.21623589],\n",
              "        [0.67080684, 0.18055326, 0.5406093 ]]])"
            ]
          },
          "metadata": {},
          "execution_count": 28
        }
      ]
    },
    {
      "cell_type": "code",
      "source": [
        "data.shape"
      ],
      "metadata": {
        "colab": {
          "base_uri": "https://localhost:8080/"
        },
        "id": "2Um4xnObqXQL",
        "outputId": "1873b18f-7be1-4d7d-99db-0e1f10913cc4"
      },
      "execution_count": 29,
      "outputs": [
        {
          "output_type": "execute_result",
          "data": {
            "text/plain": [
              "(5, 2, 3)"
            ]
          },
          "metadata": {},
          "execution_count": 29
        }
      ]
    },
    {
      "cell_type": "code",
      "source": [
        "data2 = data.reshape(6,-1)\n",
        "data2"
      ],
      "metadata": {
        "colab": {
          "base_uri": "https://localhost:8080/"
        },
        "id": "_DYFNmeYqZZH",
        "outputId": "bc96edf3-c90c-43c6-a45b-8e2ab3b89f46"
      },
      "execution_count": 31,
      "outputs": [
        {
          "output_type": "execute_result",
          "data": {
            "text/plain": [
              "array([[0.42086956, 0.81527406, 0.93160169, 0.89302299, 0.30593853],\n",
              "       [0.0983934 , 0.45006097, 0.0077597 , 0.43132143, 0.85122057],\n",
              "       [0.21932564, 0.16311396, 0.0583691 , 0.93364962, 0.71346816],\n",
              "       [0.49330805, 0.8733665 , 0.93834256, 0.41322095, 0.70956878],\n",
              "       [0.42513303, 0.26433827, 0.63240553, 0.0175253 , 0.61603012],\n",
              "       [0.48454929, 0.21623589, 0.67080684, 0.18055326, 0.5406093 ]])"
            ]
          },
          "metadata": {},
          "execution_count": 31
        }
      ]
    },
    {
      "cell_type": "code",
      "source": [
        "data2.shape"
      ],
      "metadata": {
        "colab": {
          "base_uri": "https://localhost:8080/"
        },
        "id": "p_IsDIluqiUd",
        "outputId": "a5da901e-8d30-4759-9522-7c494edb8f81"
      },
      "execution_count": 32,
      "outputs": [
        {
          "output_type": "execute_result",
          "data": {
            "text/plain": [
              "(6, 5)"
            ]
          },
          "metadata": {},
          "execution_count": 32
        }
      ]
    },
    {
      "cell_type": "code",
      "source": [
        "#data 3 = data.reshape(7,-1) #요구하는 구조로 정확하게 구성하지 못함\n",
        "#data"
      ],
      "metadata": {
        "id": "pMqHEUs-qxUi"
      },
      "execution_count": null,
      "outputs": []
    },
    {
      "cell_type": "code",
      "source": [
        "#파이썬의 리스트는 tensor 자료가 아닐 수 있다.\n",
        "zagged_arr = [[1,2,3],[1,2],[1,2,3,4,5]]\n",
        "zagged_arr"
      ],
      "metadata": {
        "colab": {
          "base_uri": "https://localhost:8080/"
        },
        "id": "eY0nd3_GrFls",
        "outputId": "5d98f497-f124-4df8-c5da-af95335a66e5"
      },
      "execution_count": 33,
      "outputs": [
        {
          "output_type": "execute_result",
          "data": {
            "text/plain": [
              "[[1, 2, 3], [1, 2], [1, 2, 3, 4, 5]]"
            ]
          },
          "metadata": {},
          "execution_count": 33
        }
      ]
    },
    {
      "cell_type": "code",
      "source": [
        "ls1 = [[1,2],[3,4]]\n",
        "ls2 = [[4,6],[3,7]]\n",
        "ls3 = ls1+ls2\n",
        "ls3"
      ],
      "metadata": {
        "colab": {
          "base_uri": "https://localhost:8080/"
        },
        "id": "0hK89LFDr2qX",
        "outputId": "4325cd80-c383-40fa-fa67-5db39d8d3428"
      },
      "execution_count": 37,
      "outputs": [
        {
          "output_type": "execute_result",
          "data": {
            "text/plain": [
              "[[1, 2], [3, 4], [4, 6], [3, 7]]"
            ]
          },
          "metadata": {},
          "execution_count": 37
        }
      ]
    },
    {
      "cell_type": "code",
      "source": [
        "data2.ndim #ndim : 차원 알아보기"
      ],
      "metadata": {
        "colab": {
          "base_uri": "https://localhost:8080/"
        },
        "id": "9IDr5ayKsXO1",
        "outputId": "c332eab7-fd18-4ff2-c8c2-427af525acb8"
      },
      "execution_count": 38,
      "outputs": [
        {
          "output_type": "execute_result",
          "data": {
            "text/plain": [
              "2"
            ]
          },
          "metadata": {},
          "execution_count": 38
        }
      ]
    },
    {
      "cell_type": "code",
      "source": [
        "data2.shape"
      ],
      "metadata": {
        "colab": {
          "base_uri": "https://localhost:8080/"
        },
        "id": "I5bWZOfesmtU",
        "outputId": "4cf82ed8-c24a-4756-bf30-397193655003"
      },
      "execution_count": 39,
      "outputs": [
        {
          "output_type": "execute_result",
          "data": {
            "text/plain": [
              "(6, 5)"
            ]
          },
          "metadata": {},
          "execution_count": 39
        }
      ]
    },
    {
      "cell_type": "markdown",
      "source": [
        "#행렬계산"
      ],
      "metadata": {
        "id": "MPcUZGPhrjLP"
      }
    },
    {
      "cell_type": "code",
      "source": [
        "arr1 = np.array([[1,2],[3,4]])\n",
        "arr2 = np.array([[4,6],[3,7]])\n",
        "\n",
        "arr3 = arr1+arr2\n",
        "arr3"
      ],
      "metadata": {
        "colab": {
          "base_uri": "https://localhost:8080/"
        },
        "id": "QwLt6qwVrmR2",
        "outputId": "aa30c3ae-4562-461b-bd19-8393fbfc6b20"
      },
      "execution_count": 35,
      "outputs": [
        {
          "output_type": "execute_result",
          "data": {
            "text/plain": [
              "array([[ 5,  8],\n",
              "       [ 6, 11]])"
            ]
          },
          "metadata": {},
          "execution_count": 35
        }
      ]
    },
    {
      "cell_type": "markdown",
      "source": [
        "#원소 형식"
      ],
      "metadata": {
        "id": "F63plwDSssqR"
      }
    },
    {
      "cell_type": "code",
      "source": [
        "arr = np.array([1,2,3,4,5])\n",
        "arr.dtype"
      ],
      "metadata": {
        "colab": {
          "base_uri": "https://localhost:8080/"
        },
        "id": "xx_0OtN0sa8z",
        "outputId": "69c83230-2865-4e0a-a548-4209d6bfd3db"
      },
      "execution_count": 40,
      "outputs": [
        {
          "output_type": "execute_result",
          "data": {
            "text/plain": [
              "dtype('int64')"
            ]
          },
          "metadata": {},
          "execution_count": 40
        }
      ]
    },
    {
      "cell_type": "code",
      "source": [
        "type(arr1[0])"
      ],
      "metadata": {
        "colab": {
          "base_uri": "https://localhost:8080/"
        },
        "id": "avL2Iin6tetn",
        "outputId": "d6299957-3a08-4aed-9b17-ed6e44bad54a"
      },
      "execution_count": 44,
      "outputs": [
        {
          "output_type": "execute_result",
          "data": {
            "text/plain": [
              "numpy.ndarray"
            ]
          },
          "metadata": {},
          "execution_count": 44
        }
      ]
    },
    {
      "cell_type": "code",
      "source": [
        "arr2 = np.array([1,2,3,4,5.])\n",
        "arr2.dtype"
      ],
      "metadata": {
        "colab": {
          "base_uri": "https://localhost:8080/"
        },
        "id": "P6urll6ks1d_",
        "outputId": "111832b4-8524-4893-8e2b-abc5915fe2a9"
      },
      "execution_count": 42,
      "outputs": [
        {
          "output_type": "execute_result",
          "data": {
            "text/plain": [
              "dtype('float64')"
            ]
          },
          "metadata": {},
          "execution_count": 42
        }
      ]
    },
    {
      "cell_type": "code",
      "source": [
        "type(arr2[0])"
      ],
      "metadata": {
        "colab": {
          "base_uri": "https://localhost:8080/"
        },
        "id": "BpteRGBMtiqz",
        "outputId": "2aff0a0c-f9c3-4d0e-fb8e-387b4cd6c728"
      },
      "execution_count": 45,
      "outputs": [
        {
          "output_type": "execute_result",
          "data": {
            "text/plain": [
              "numpy.ndarray"
            ]
          },
          "metadata": {},
          "execution_count": 45
        }
      ]
    },
    {
      "cell_type": "code",
      "source": [
        "arr3 = np.array([1,2,'a',4,5])\n",
        "arr3.dtype"
      ],
      "metadata": {
        "colab": {
          "base_uri": "https://localhost:8080/"
        },
        "id": "y6YtctCfs7TU",
        "outputId": "c5a75ab7-b6d6-46b7-9e7d-7009f1556152"
      },
      "execution_count": 46,
      "outputs": [
        {
          "output_type": "execute_result",
          "data": {
            "text/plain": [
              "dtype('<U21')"
            ]
          },
          "metadata": {},
          "execution_count": 46
        }
      ]
    },
    {
      "cell_type": "code",
      "source": [
        "type(arr3[0])"
      ],
      "metadata": {
        "colab": {
          "base_uri": "https://localhost:8080/"
        },
        "id": "iZ_rbUF4tnvp",
        "outputId": "f093759e-fb64-4de1-aca3-d1ba69584bd8"
      },
      "execution_count": 47,
      "outputs": [
        {
          "output_type": "execute_result",
          "data": {
            "text/plain": [
              "numpy.str_"
            ]
          },
          "metadata": {},
          "execution_count": 47
        }
      ]
    },
    {
      "cell_type": "code",
      "source": [
        "arr3[0]"
      ],
      "metadata": {
        "colab": {
          "base_uri": "https://localhost:8080/",
          "height": 35
        },
        "id": "fLvFsbkXtt6B",
        "outputId": "14596251-8337-48f6-db28-0e8cf0a7b2f0"
      },
      "execution_count": 48,
      "outputs": [
        {
          "output_type": "execute_result",
          "data": {
            "application/vnd.google.colaboratory.intrinsic+json": {
              "type": "string"
            },
            "text/plain": [
              "'1'"
            ]
          },
          "metadata": {},
          "execution_count": 48
        }
      ]
    },
    {
      "cell_type": "code",
      "source": [
        "ls = [1,2,3,4,5.]\n",
        "type(ls[0]),type(ls[4])"
      ],
      "metadata": {
        "colab": {
          "base_uri": "https://localhost:8080/"
        },
        "id": "E29Wm_RauAhT",
        "outputId": "162b67e9-b3f0-4bbc-e1ee-42ea0292a841"
      },
      "execution_count": 49,
      "outputs": [
        {
          "output_type": "execute_result",
          "data": {
            "text/plain": [
              "(int, float)"
            ]
          },
          "metadata": {},
          "execution_count": 49
        }
      ]
    },
    {
      "cell_type": "markdown",
      "source": [
        "#형식변환\n"
      ],
      "metadata": {
        "id": "qvjcUYcdub-8"
      }
    },
    {
      "cell_type": "code",
      "source": [
        "arr4 = np.array(['1','2','3','4'])\n",
        "for e in arr4:\n",
        "  print(e,end=',')\n",
        "print()"
      ],
      "metadata": {
        "colab": {
          "base_uri": "https://localhost:8080/"
        },
        "id": "OSIMdHDqubjp",
        "outputId": "61ba8982-afb7-478d-85a3-ca94207ca584"
      },
      "execution_count": 51,
      "outputs": [
        {
          "output_type": "stream",
          "name": "stdout",
          "text": [
            "1,2,3,4,\n"
          ]
        }
      ]
    },
    {
      "cell_type": "code",
      "source": [
        "s =arr4[0]\n",
        "for e in range(1,len(arr4)):\n",
        "  s+=arr4[e]\n",
        "print(s)"
      ],
      "metadata": {
        "colab": {
          "base_uri": "https://localhost:8080/"
        },
        "id": "VWu62tHZuf8n",
        "outputId": "1d3d2ba2-31a1-4e72-8baa-3709450edfc6"
      },
      "execution_count": 55,
      "outputs": [
        {
          "output_type": "stream",
          "name": "stdout",
          "text": [
            "1234\n"
          ]
        }
      ]
    },
    {
      "cell_type": "code",
      "source": [
        "arr5 = arr4.astype(int)\n",
        "print(arr5.sum())"
      ],
      "metadata": {
        "colab": {
          "base_uri": "https://localhost:8080/"
        },
        "id": "pbdxpGpCvs03",
        "outputId": "07edfeb3-a023-4eee-9ec2-edcec9962bf6"
      },
      "execution_count": 57,
      "outputs": [
        {
          "output_type": "stream",
          "name": "stdout",
          "text": [
            "10\n"
          ]
        }
      ]
    },
    {
      "cell_type": "markdown",
      "source": [
        "# 산술연산, 필터링"
      ],
      "metadata": {
        "id": "1Y42tHOCzNPf"
      }
    },
    {
      "cell_type": "code",
      "source": [
        "arr = np.array([[1,2],[3,4]])\n",
        "sq_arr = arr*arr\n",
        "sq_arr\n"
      ],
      "metadata": {
        "colab": {
          "base_uri": "https://localhost:8080/"
        },
        "id": "9nPQkittzaB7",
        "outputId": "bd065873-1689-4438-c44d-b226ec350452"
      },
      "execution_count": 58,
      "outputs": [
        {
          "output_type": "execute_result",
          "data": {
            "text/plain": [
              "array([[ 1,  4],\n",
              "       [ 9, 16]])"
            ]
          },
          "metadata": {},
          "execution_count": 58
        }
      ]
    },
    {
      "cell_type": "code",
      "source": [
        "d5_arr = arr/5\n",
        "d5_arr"
      ],
      "metadata": {
        "colab": {
          "base_uri": "https://localhost:8080/"
        },
        "id": "2wS4xiUkzhb5",
        "outputId": "c76b9fcc-beb7-473a-fc67-d77a9743b5ad"
      },
      "execution_count": 59,
      "outputs": [
        {
          "output_type": "execute_result",
          "data": {
            "text/plain": [
              "array([[0.2, 0.4],\n",
              "       [0.6, 0.8]])"
            ]
          },
          "metadata": {},
          "execution_count": 59
        }
      ]
    },
    {
      "cell_type": "code",
      "source": [
        "arr = np.array([-1,2,3,4,-4,9])\n",
        "filter = arr>=0\n",
        "print(filter)\n",
        "darr = arr[filter]\n",
        "print(darr)"
      ],
      "metadata": {
        "colab": {
          "base_uri": "https://localhost:8080/"
        },
        "id": "0H_j2rBozlYd",
        "outputId": "3f2889c7-4b37-44ef-95b6-aecd07a8decd"
      },
      "execution_count": 61,
      "outputs": [
        {
          "output_type": "stream",
          "name": "stdout",
          "text": [
            "[False  True  True  True False  True]\n",
            "[2 3 4 9]\n"
          ]
        }
      ]
    },
    {
      "cell_type": "code",
      "source": [
        "arr = np.array([[1,2,3],[4,5,6]])\n",
        "arr.shape"
      ],
      "metadata": {
        "colab": {
          "base_uri": "https://localhost:8080/"
        },
        "id": "E7R5LjAc0oe-",
        "outputId": "06354847-4e21-45db-926d-31f82bd087d7"
      },
      "execution_count": 62,
      "outputs": [
        {
          "output_type": "execute_result",
          "data": {
            "text/plain": [
              "(2, 3)"
            ]
          },
          "metadata": {},
          "execution_count": 62
        }
      ]
    },
    {
      "cell_type": "code",
      "source": [
        "for i in range(2):\n",
        "  for j in range(3):\n",
        "    print(arr[i,j],end=',')\n",
        "  print()"
      ],
      "metadata": {
        "colab": {
          "base_uri": "https://localhost:8080/"
        },
        "id": "U1YHt2Nk0tKl",
        "outputId": "22ec945f-4ca9-4369-9a72-c075a30747b7"
      },
      "execution_count": 63,
      "outputs": [
        {
          "output_type": "stream",
          "name": "stdout",
          "text": [
            "1,2,3,\n",
            "4,5,6,\n"
          ]
        }
      ]
    },
    {
      "cell_type": "code",
      "source": [
        "print(arr[0,1])\n",
        "print(arr[0][1])"
      ],
      "metadata": {
        "colab": {
          "base_uri": "https://localhost:8080/"
        },
        "id": "0bD0wsqL08vJ",
        "outputId": "12df6ed9-705b-4341-f6c1-5b29dc57954b"
      },
      "execution_count": 64,
      "outputs": [
        {
          "output_type": "stream",
          "name": "stdout",
          "text": [
            "2\n",
            "2\n"
          ]
        }
      ]
    },
    {
      "cell_type": "code",
      "source": [
        "arr = np.arange(100)\n",
        "arr"
      ],
      "metadata": {
        "colab": {
          "base_uri": "https://localhost:8080/"
        },
        "id": "SWJEzdjS1koV",
        "outputId": "a0736359-44d6-44e8-b808-636cdc0e36ac"
      },
      "execution_count": 65,
      "outputs": [
        {
          "output_type": "execute_result",
          "data": {
            "text/plain": [
              "array([ 0,  1,  2,  3,  4,  5,  6,  7,  8,  9, 10, 11, 12, 13, 14, 15, 16,\n",
              "       17, 18, 19, 20, 21, 22, 23, 24, 25, 26, 27, 28, 29, 30, 31, 32, 33,\n",
              "       34, 35, 36, 37, 38, 39, 40, 41, 42, 43, 44, 45, 46, 47, 48, 49, 50,\n",
              "       51, 52, 53, 54, 55, 56, 57, 58, 59, 60, 61, 62, 63, 64, 65, 66, 67,\n",
              "       68, 69, 70, 71, 72, 73, 74, 75, 76, 77, 78, 79, 80, 81, 82, 83, 84,\n",
              "       85, 86, 87, 88, 89, 90, 91, 92, 93, 94, 95, 96, 97, 98, 99])"
            ]
          },
          "metadata": {},
          "execution_count": 65
        }
      ]
    },
    {
      "cell_type": "code",
      "source": [
        "arr[3:10] #arr[3] ~ arr[10-1]"
      ],
      "metadata": {
        "colab": {
          "base_uri": "https://localhost:8080/"
        },
        "id": "G0Eb5IzM1o8j",
        "outputId": "c2025374-1bb7-460b-de9e-754bb9225e0d"
      },
      "execution_count": 66,
      "outputs": [
        {
          "output_type": "execute_result",
          "data": {
            "text/plain": [
              "array([3, 4, 5, 6, 7, 8, 9])"
            ]
          },
          "metadata": {},
          "execution_count": 66
        }
      ]
    },
    {
      "cell_type": "code",
      "source": [
        "arr[:5]"
      ],
      "metadata": {
        "colab": {
          "base_uri": "https://localhost:8080/"
        },
        "id": "cEuGS24Y1s_v",
        "outputId": "d4152d35-d59f-4c83-e4f3-08768a4d3a6f"
      },
      "execution_count": 67,
      "outputs": [
        {
          "output_type": "execute_result",
          "data": {
            "text/plain": [
              "array([0, 1, 2, 3, 4])"
            ]
          },
          "metadata": {},
          "execution_count": 67
        }
      ]
    },
    {
      "cell_type": "code",
      "source": [
        "arr[95:]"
      ],
      "metadata": {
        "colab": {
          "base_uri": "https://localhost:8080/"
        },
        "id": "vH2Qzunw1ujL",
        "outputId": "294dab52-b47a-4ee7-d819-49e5f53a9940"
      },
      "execution_count": 68,
      "outputs": [
        {
          "output_type": "execute_result",
          "data": {
            "text/plain": [
              "array([95, 96, 97, 98, 99])"
            ]
          },
          "metadata": {},
          "execution_count": 68
        }
      ]
    },
    {
      "cell_type": "code",
      "source": [
        "arr[-1]"
      ],
      "metadata": {
        "colab": {
          "base_uri": "https://localhost:8080/"
        },
        "id": "_NjxL2x21v4w",
        "outputId": "6b701171-ad34-4e03-a663-0cbdd1fd238f"
      },
      "execution_count": 69,
      "outputs": [
        {
          "output_type": "execute_result",
          "data": {
            "text/plain": [
              "99"
            ]
          },
          "metadata": {},
          "execution_count": 69
        }
      ]
    },
    {
      "cell_type": "code",
      "source": [
        "arr[90:3]"
      ],
      "metadata": {
        "colab": {
          "base_uri": "https://localhost:8080/"
        },
        "id": "mrSsc-WP2Emw",
        "outputId": "99a59d0a-aa67-4e00-e5bc-62333a2cc916"
      },
      "execution_count": 70,
      "outputs": [
        {
          "output_type": "execute_result",
          "data": {
            "text/plain": [
              "array([], dtype=int64)"
            ]
          },
          "metadata": {},
          "execution_count": 70
        }
      ]
    },
    {
      "cell_type": "code",
      "source": [
        "pre80 = arr[:len(arr)*4//5]\n",
        "pre80"
      ],
      "metadata": {
        "colab": {
          "base_uri": "https://localhost:8080/"
        },
        "id": "w7p2t-WG2YTv",
        "outputId": "a5ffecd9-30e2-4f5d-e504-a4d1ce2ff39c"
      },
      "execution_count": 71,
      "outputs": [
        {
          "output_type": "execute_result",
          "data": {
            "text/plain": [
              "array([ 0,  1,  2,  3,  4,  5,  6,  7,  8,  9, 10, 11, 12, 13, 14, 15, 16,\n",
              "       17, 18, 19, 20, 21, 22, 23, 24, 25, 26, 27, 28, 29, 30, 31, 32, 33,\n",
              "       34, 35, 36, 37, 38, 39, 40, 41, 42, 43, 44, 45, 46, 47, 48, 49, 50,\n",
              "       51, 52, 53, 54, 55, 56, 57, 58, 59, 60, 61, 62, 63, 64, 65, 66, 67,\n",
              "       68, 69, 70, 71, 72, 73, 74, 75, 76, 77, 78, 79])"
            ]
          },
          "metadata": {},
          "execution_count": 71
        }
      ]
    },
    {
      "cell_type": "code",
      "source": [
        "post20 = arr[len(arr)*4//5:]\n",
        "post20"
      ],
      "metadata": {
        "colab": {
          "base_uri": "https://localhost:8080/"
        },
        "id": "fDc6c5Pl2c0V",
        "outputId": "551a8175-0f07-46d2-9e03-e3ddb68a024b"
      },
      "execution_count": 72,
      "outputs": [
        {
          "output_type": "execute_result",
          "data": {
            "text/plain": [
              "array([80, 81, 82, 83, 84, 85, 86, 87, 88, 89, 90, 91, 92, 93, 94, 95, 96,\n",
              "       97, 98, 99])"
            ]
          },
          "metadata": {},
          "execution_count": 72
        }
      ]
    },
    {
      "cell_type": "markdown",
      "source": [
        "# 필터링 강화"
      ],
      "metadata": {
        "id": "RGuBZe6425Ds"
      }
    },
    {
      "cell_type": "code",
      "source": [
        "names = np.array(['Bob','Joe','Will','Bob','Will','Joe','Joe'])\n",
        "scores = np.array([90,80,74,90,78,88,85])\n",
        "filter =names == 'Bob'\n",
        "scores[filter]"
      ],
      "metadata": {
        "colab": {
          "base_uri": "https://localhost:8080/"
        },
        "id": "2SK266mz27OZ",
        "outputId": "c2aaaf62-36eb-4d24-d4f6-8cec58eae58f"
      },
      "execution_count": 79,
      "outputs": [
        {
          "output_type": "execute_result",
          "data": {
            "text/plain": [
              "array([90, 90])"
            ]
          },
          "metadata": {},
          "execution_count": 79
        }
      ]
    },
    {
      "cell_type": "code",
      "source": [
        "texts = np.array([\"Hello, How are you?\",\"Where r u from?\",\"RD GG\",\"ready to go home\"])\n",
        "filter = [True if \"r\" in text else False for text in texts]\n",
        "filter\n",
        "texts[filter]"
      ],
      "metadata": {
        "colab": {
          "base_uri": "https://localhost:8080/"
        },
        "id": "R_cSHXVa4IJ0",
        "outputId": "3d3e7c9a-d28d-401f-8b5a-26583c9e009b"
      },
      "execution_count": 80,
      "outputs": [
        {
          "output_type": "execute_result",
          "data": {
            "text/plain": [
              "array(['Hello, How are you?', 'Where r u from?', 'ready to go home'],\n",
              "      dtype='<U19')"
            ]
          },
          "metadata": {},
          "execution_count": 80
        }
      ]
    },
    {
      "cell_type": "markdown",
      "source": [
        "numpy는 아니지만 컴프리핸션을 more..."
      ],
      "metadata": {
        "id": "D5H-5DsU5Fiv"
      }
    },
    {
      "cell_type": "code",
      "source": [
        "data = [i*i for i in range(10)]\n",
        "print(data)"
      ],
      "metadata": {
        "colab": {
          "base_uri": "https://localhost:8080/"
        },
        "id": "pOLp7Gr15Lob",
        "outputId": "0887291e-ad41-4d59-e902-31128d1628bf"
      },
      "execution_count": 82,
      "outputs": [
        {
          "output_type": "stream",
          "name": "stdout",
          "text": [
            "[0, 1, 4, 9, 16, 25, 36, 49, 64, 81]\n"
          ]
        }
      ]
    },
    {
      "cell_type": "code",
      "source": [
        "data2 = [i*i for i in range(10) if i%2==0]\n",
        "print(data2)"
      ],
      "metadata": {
        "colab": {
          "base_uri": "https://localhost:8080/"
        },
        "id": "UyuklpTi5Wvo",
        "outputId": "cc4c5ac4-5cfc-4242-97d9-8355d653b72a"
      },
      "execution_count": 83,
      "outputs": [
        {
          "output_type": "stream",
          "name": "stdout",
          "text": [
            "[0, 4, 16, 36, 64]\n"
          ]
        }
      ]
    }
  ]
}