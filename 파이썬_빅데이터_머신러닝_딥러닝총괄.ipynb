{
  "nbformat": 4,
  "nbformat_minor": 0,
  "metadata": {
    "colab": {
      "name": "파이썬-빅데이터-머신러닝-딥러닝총괄.ipynb",
      "provenance": [],
      "mount_file_id": "1TYAChxfWeTCv1Jg5p2U4hX8rGp7VUWAO",
      "authorship_tag": "ABX9TyO6iWyiTmgrgP0vB8A1wMQr",
      "include_colab_link": true
    },
    "kernelspec": {
      "name": "python3",
      "display_name": "Python 3"
    },
    "language_info": {
      "name": "python"
    }
  },
  "cells": [
    {
      "cell_type": "markdown",
      "metadata": {
        "id": "view-in-github",
        "colab_type": "text"
      },
      "source": [
        "<a href=\"https://colab.research.google.com/github/hyunjung930/Python/blob/hyunjung/%ED%8C%8C%EC%9D%B4%EC%8D%AC_%EB%B9%85%EB%8D%B0%EC%9D%B4%ED%84%B0_%EB%A8%B8%EC%8B%A0%EB%9F%AC%EB%8B%9D_%EB%94%A5%EB%9F%AC%EB%8B%9D%EC%B4%9D%EA%B4%84.ipynb\" target=\"_parent\"><img src=\"https://colab.research.google.com/assets/colab-badge.svg\" alt=\"Open In Colab\"/></a>"
      ]
    },
    {
      "cell_type": "markdown",
      "source": [
        "# Why? 파이썬"
      ],
      "metadata": {
        "id": "0FksHy_swCHH"
      }
    },
    {
      "cell_type": "code",
      "execution_count": null,
      "metadata": {
        "colab": {
          "base_uri": "https://localhost:8080/"
        },
        "id": "n90RSXXTvdbk",
        "outputId": "0b23d3f1-a726-4f69-a2eb-2b770e9a3c0a"
      },
      "outputs": [
        {
          "output_type": "execute_result",
          "data": {
            "text/plain": [
              "([0, 1, 2, 3, 4, 5, 6, 7, 8, 9],\n",
              " [0, 2, 4, 6, 8],\n",
              " [0, -1, 2, -1, 4, -1, 6, -1, 8, -1])"
            ]
          },
          "metadata": {},
          "execution_count": 1
        }
      ],
      "source": [
        "ls1 = [x for x in range(10)]\n",
        "ls2 = [x for x in range(10) if x%2==0]\n",
        "ls3 = [x if x%2==0 else(-1) for x in range(10)]\n",
        "\n",
        "ls1, ls2, ls3"
      ]
    },
    {
      "cell_type": "code",
      "source": [
        "def calculate(xs):\n",
        "  s = 0\n",
        "  for x in xs:\n",
        "    s +=x\n",
        "  return s,s/len(xs)"
      ],
      "metadata": {
        "id": "gPYA38Rl02q0"
      },
      "execution_count": null,
      "outputs": []
    },
    {
      "cell_type": "code",
      "source": [
        "s,_ = calculate([1,2,3,4,5,6,7,8,9,10])\n",
        "print(f\"합계:{s:010d}\")\n"
      ],
      "metadata": {
        "colab": {
          "base_uri": "https://localhost:8080/"
        },
        "id": "AZlQi7Bc0_zV",
        "outputId": "53a0f561-70cf-4194-f125-9df08ec13ef9"
      },
      "execution_count": null,
      "outputs": [
        {
          "output_type": "stream",
          "name": "stdout",
          "text": [
            "합계:0000000055\n"
          ]
        }
      ]
    },
    {
      "cell_type": "code",
      "source": [
        "data = 2,3\n",
        "print(type(data))"
      ],
      "metadata": {
        "colab": {
          "base_uri": "https://localhost:8080/"
        },
        "id": "CKI1mghH1rRh",
        "outputId": "6eaf2d2c-b633-497b-83ab-6ba59a383e89"
      },
      "execution_count": null,
      "outputs": [
        {
          "output_type": "stream",
          "name": "stdout",
          "text": [
            "<class 'tuple'>\n"
          ]
        }
      ]
    },
    {
      "cell_type": "code",
      "source": [
        "a,b = data\n",
        "a,b"
      ],
      "metadata": {
        "colab": {
          "base_uri": "https://localhost:8080/"
        },
        "id": "EGplvKSq11R7",
        "outputId": "b6894760-4a61-4be7-a4e2-8f3b5fe3ecc9"
      },
      "execution_count": null,
      "outputs": [
        {
          "output_type": "execute_result",
          "data": {
            "text/plain": [
              "(2, 3)"
            ]
          },
          "metadata": {},
          "execution_count": 5
        }
      ]
    },
    {
      "cell_type": "code",
      "source": [
        "import sys\n",
        "sys.path.append('/content/')"
      ],
      "metadata": {
        "id": "7JizmzQo3EZR"
      },
      "execution_count": null,
      "outputs": []
    },
    {
      "cell_type": "code",
      "source": [
        "import foo"
      ],
      "metadata": {
        "id": "_2bUvTLh3drl"
      },
      "execution_count": null,
      "outputs": []
    },
    {
      "cell_type": "code",
      "source": [
        "foo.A()"
      ],
      "metadata": {
        "id": "GddlDCFv3d72"
      },
      "execution_count": null,
      "outputs": []
    },
    {
      "cell_type": "markdown",
      "source": [
        "from 모듈이름 import 모듈 내에 있는 것 중에 간단히 사용할 이름"
      ],
      "metadata": {
        "id": "3CW2EoNs5ZWJ"
      }
    },
    {
      "cell_type": "code",
      "source": [
        "import soo"
      ],
      "metadata": {
        "id": "jogv1Qkj3eMI"
      },
      "execution_count": null,
      "outputs": []
    },
    {
      "cell_type": "code",
      "source": [
        "s = soo.Soo()"
      ],
      "metadata": {
        "id": "G7jkXcFR4Ek1"
      },
      "execution_count": null,
      "outputs": []
    },
    {
      "cell_type": "markdown",
      "source": [
        "# 대표 모듈"
      ],
      "metadata": {
        "id": "TgY0cEQB8ZVP"
      }
    },
    {
      "cell_type": "code",
      "source": [
        "import numpy as np"
      ],
      "metadata": {
        "id": "6HZwZHFn4E2E"
      },
      "execution_count": 1,
      "outputs": []
    },
    {
      "cell_type": "code",
      "source": [
        "ls1 = [1,2,3,4]\n",
        "ls2 = [3,4,5,6]\n",
        "\n",
        "ls3 = ls1+ls2 #+연산은 제공하지만 행렬간의 더하기 연산은 아님\n",
        "ls3"
      ],
      "metadata": {
        "colab": {
          "base_uri": "https://localhost:8080/"
        },
        "id": "AtKT7jhu881G",
        "outputId": "ce4dd15c-474f-4353-8c48-3b7d0705209f"
      },
      "execution_count": null,
      "outputs": [
        {
          "output_type": "execute_result",
          "data": {
            "text/plain": [
              "[1, 2, 3, 4, 3, 4, 5, 6]"
            ]
          },
          "metadata": {},
          "execution_count": 11
        }
      ]
    },
    {
      "cell_type": "code",
      "source": [
        "#ls3 = ls2 - ls1 행렬 사이의 빼기 연산 제공하지 않음"
      ],
      "metadata": {
        "id": "To8NweMt9Emo"
      },
      "execution_count": null,
      "outputs": []
    },
    {
      "cell_type": "code",
      "source": [
        "ls3 = ls1*4 # *연산도 행렬과 정수 사이의 연산이 아님\n",
        "ls3"
      ],
      "metadata": {
        "colab": {
          "base_uri": "https://localhost:8080/"
        },
        "id": "yLdmFcUQ9E13",
        "outputId": "8bbbc15f-6723-42fa-9e1b-d4c285e1f042"
      },
      "execution_count": null,
      "outputs": [
        {
          "output_type": "execute_result",
          "data": {
            "text/plain": [
              "[1, 2, 3, 4, 1, 2, 3, 4, 1, 2, 3, 4, 1, 2, 3, 4]"
            ]
          },
          "metadata": {},
          "execution_count": 15
        }
      ]
    },
    {
      "cell_type": "code",
      "source": [
        "ar1 = np.array(ls1)\n",
        "ar2 = np.array(ls2)\n",
        "ar3 = ar1+ar2 #행렬 사이의 + 연산 제공\n",
        "ar3"
      ],
      "metadata": {
        "colab": {
          "base_uri": "https://localhost:8080/"
        },
        "id": "0EAx9Mle9FB4",
        "outputId": "f8e3238c-6925-4b29-9aa1-c0a3cf6ff55d"
      },
      "execution_count": null,
      "outputs": [
        {
          "output_type": "execute_result",
          "data": {
            "text/plain": [
              "array([ 4,  6,  8, 10])"
            ]
          },
          "metadata": {},
          "execution_count": 14
        }
      ]
    },
    {
      "cell_type": "code",
      "source": [
        "ar3 = ar2-ar1 #행렬 사이의 - 연산 제공\n",
        "ar3"
      ],
      "metadata": {
        "colab": {
          "base_uri": "https://localhost:8080/"
        },
        "id": "A1Ft-b5_9FR0",
        "outputId": "695842d5-bed5-4a2c-c1a8-da6913235f9e"
      },
      "execution_count": null,
      "outputs": [
        {
          "output_type": "execute_result",
          "data": {
            "text/plain": [
              "array([2, 2, 2, 2])"
            ]
          },
          "metadata": {},
          "execution_count": 16
        }
      ]
    },
    {
      "cell_type": "code",
      "source": [
        "ar3 = ar2*4 #행렬과 정수 사이의 X연산 제공\n",
        "ar3"
      ],
      "metadata": {
        "colab": {
          "base_uri": "https://localhost:8080/"
        },
        "id": "HOp4-tRN9FeH",
        "outputId": "d64e8dd6-75a4-4bb6-ea6d-b2229a3bf480"
      },
      "execution_count": null,
      "outputs": [
        {
          "output_type": "execute_result",
          "data": {
            "text/plain": [
              "array([12, 16, 20, 24])"
            ]
          },
          "metadata": {},
          "execution_count": 17
        }
      ]
    },
    {
      "cell_type": "code",
      "source": [
        "ar3 = ar1 @ ar2 #행렬과 행렬 사이의 곱하기 연산\n",
        "ar3"
      ],
      "metadata": {
        "colab": {
          "base_uri": "https://localhost:8080/"
        },
        "id": "8HwOS6ew9foZ",
        "outputId": "7d07d524-5fb9-4a68-d92d-5bcc9c6fb2a3"
      },
      "execution_count": null,
      "outputs": [
        {
          "output_type": "execute_result",
          "data": {
            "text/plain": [
              "50"
            ]
          },
          "metadata": {},
          "execution_count": 18
        }
      ]
    },
    {
      "cell_type": "code",
      "source": [
        "ar3 = ar1.dot(ar2) #내적 함수:두 정규화 벡터의 각 성분끼리의 곱의 합\n",
        "ar3"
      ],
      "metadata": {
        "colab": {
          "base_uri": "https://localhost:8080/"
        },
        "id": "2ZAFvAiM9f3-",
        "outputId": "6ef5fa13-da54-4c69-9972-6b4f845e109a"
      },
      "execution_count": null,
      "outputs": [
        {
          "output_type": "execute_result",
          "data": {
            "text/plain": [
              "50"
            ]
          },
          "metadata": {},
          "execution_count": 19
        }
      ]
    },
    {
      "cell_type": "code",
      "source": [
        "ls = [[1,2,3],[2],[4,5,6,7,8]]\n",
        "ls"
      ],
      "metadata": {
        "colab": {
          "base_uri": "https://localhost:8080/"
        },
        "id": "uPdJaugo-jty",
        "outputId": "783fb9bb-9b51-4eb0-cc4b-7e7a13881d3a"
      },
      "execution_count": null,
      "outputs": [
        {
          "output_type": "execute_result",
          "data": {
            "text/plain": [
              "[[1, 2, 3], [2], [4, 5, 6, 7, 8]]"
            ]
          },
          "metadata": {},
          "execution_count": 20
        }
      ]
    },
    {
      "cell_type": "code",
      "source": [
        "ar = np.arange(100)\n",
        "ar.shape"
      ],
      "metadata": {
        "colab": {
          "base_uri": "https://localhost:8080/"
        },
        "id": "SaxR2d0Z-gUp",
        "outputId": "b14c9f96-2dbb-4e45-875d-e4790d6f5de8"
      },
      "execution_count": null,
      "outputs": [
        {
          "output_type": "execute_result",
          "data": {
            "text/plain": [
              "(100,)"
            ]
          },
          "metadata": {},
          "execution_count": 21
        }
      ]
    },
    {
      "cell_type": "code",
      "source": [
        "ar2 = ar.reshape(2,50)\n",
        "ar2.shape"
      ],
      "metadata": {
        "colab": {
          "base_uri": "https://localhost:8080/"
        },
        "id": "otufy0e89gEM",
        "outputId": "7c3abeee-f3be-4815-c5ab-88c2935215f2"
      },
      "execution_count": null,
      "outputs": [
        {
          "output_type": "execute_result",
          "data": {
            "text/plain": [
              "(2, 50)"
            ]
          },
          "metadata": {},
          "execution_count": 22
        }
      ]
    },
    {
      "cell_type": "code",
      "source": [
        "ar2.dtype"
      ],
      "metadata": {
        "colab": {
          "base_uri": "https://localhost:8080/"
        },
        "id": "N9lPTY6T9gWw",
        "outputId": "da128be6-ae73-4a1c-aafc-75a6beaf6604"
      },
      "execution_count": null,
      "outputs": [
        {
          "output_type": "execute_result",
          "data": {
            "text/plain": [
              "dtype('int64')"
            ]
          },
          "metadata": {},
          "execution_count": 23
        }
      ]
    },
    {
      "cell_type": "code",
      "source": [
        "ar = np.array([1,2,3,5.]) #모든 데이터 float으로 변환\n",
        "print(type(ar[0]))"
      ],
      "metadata": {
        "colab": {
          "base_uri": "https://localhost:8080/"
        },
        "id": "0ivwtljz9gk-",
        "outputId": "7acc41dd-afac-4658-8879-fb75cd50b50a"
      },
      "execution_count": null,
      "outputs": [
        {
          "output_type": "stream",
          "name": "stdout",
          "text": [
            "<class 'numpy.float64'>\n"
          ]
        }
      ]
    },
    {
      "cell_type": "code",
      "source": [
        "ls = [1,2,3,5.]\n",
        "print(type(ls[0]))"
      ],
      "metadata": {
        "colab": {
          "base_uri": "https://localhost:8080/"
        },
        "id": "Wdyopir3_RBG",
        "outputId": "6f9ce79b-76bd-4296-d4b3-8f3cacd58daa"
      },
      "execution_count": null,
      "outputs": [
        {
          "output_type": "stream",
          "name": "stdout",
          "text": [
            "<class 'int'>\n"
          ]
        }
      ]
    },
    {
      "cell_type": "code",
      "source": [
        "ar = np.random.randn(1000)\n",
        "ar.sum(), ar.mean(), np.median(ar), np.quantile(ar, 0.25)"
      ],
      "metadata": {
        "colab": {
          "base_uri": "https://localhost:8080/"
        },
        "id": "IkjUxYww_g8b",
        "outputId": "9b15ef89-741e-4341-cc86-a1495b454b4e"
      },
      "execution_count": null,
      "outputs": [
        {
          "output_type": "execute_result",
          "data": {
            "text/plain": [
              "(-20.686059830426935,\n",
              " -0.020686059830426935,\n",
              " -0.04963468077224519,\n",
              " -0.7000749044341152)"
            ]
          },
          "metadata": {},
          "execution_count": 26
        }
      ]
    },
    {
      "cell_type": "code",
      "source": [
        "ar1 = [1,2,3,4]\n",
        "ar2 = [4,5,6,7]\n",
        "cv = np.cov(ar1, ar2)\n",
        "print(cv[0,0]) #ar1과 ar1 사이의 공분산\n",
        "print(cv[0,1]) #ar1과 ar2 사이의 공분산\n",
        "print(cv[1,0]) #ar2과 ar1 사이의 공분산\n",
        "print(cv[1,1]) #ar2과 ar2 사이의 공분산"
      ],
      "metadata": {
        "colab": {
          "base_uri": "https://localhost:8080/"
        },
        "id": "rhEmYdCUAQd_",
        "outputId": "6363c162-6af8-409a-cf10-ab88e23d0c30"
      },
      "execution_count": null,
      "outputs": [
        {
          "output_type": "stream",
          "name": "stdout",
          "text": [
            "1.6666666666666665\n",
            "1.6666666666666665\n",
            "1.6666666666666665\n",
            "1.6666666666666665\n"
          ]
        }
      ]
    },
    {
      "cell_type": "code",
      "source": [
        "cv[0,1]/(np.std(ar1)*np.std(ar2)) #상관계수"
      ],
      "metadata": {
        "colab": {
          "base_uri": "https://localhost:8080/"
        },
        "id": "pKaOuw06BWtA",
        "outputId": "a0a0f103-7610-4a9a-ea1d-e88b032851fa"
      },
      "execution_count": null,
      "outputs": [
        {
          "output_type": "execute_result",
          "data": {
            "text/plain": [
              "1.333333333333333"
            ]
          },
          "metadata": {},
          "execution_count": 28
        }
      ]
    },
    {
      "cell_type": "code",
      "source": [
        "import pandas as pd"
      ],
      "metadata": {
        "id": "Uzg5AaeABcmr"
      },
      "execution_count": null,
      "outputs": []
    },
    {
      "cell_type": "code",
      "source": [
        "df =pd.read_csv('/content/drive/MyDrive/python/members.csv')"
      ],
      "metadata": {
        "id": "7d4gdVa3Bfld"
      },
      "execution_count": null,
      "outputs": []
    },
    {
      "cell_type": "code",
      "source": [
        "df.info()"
      ],
      "metadata": {
        "colab": {
          "base_uri": "https://localhost:8080/"
        },
        "id": "8MVxwp_0B8jc",
        "outputId": "bf345238-3d9c-4543-cacf-fcf9a11b48a8"
      },
      "execution_count": null,
      "outputs": [
        {
          "output_type": "stream",
          "name": "stdout",
          "text": [
            "<class 'pandas.core.frame.DataFrame'>\n",
            "RangeIndex: 3 entries, 0 to 2\n",
            "Data columns (total 5 columns):\n",
            " #   Column  Non-Null Count  Dtype  \n",
            "---  ------  --------------  -----  \n",
            " 0   아이디     3 non-null      object \n",
            " 1   이름      3 non-null      object \n",
            " 2   이메일     3 non-null      object \n",
            " 3   나이      3 non-null      int64  \n",
            " 4   키       3 non-null      float64\n",
            "dtypes: float64(1), int64(1), object(3)\n",
            "memory usage: 248.0+ bytes\n"
          ]
        }
      ]
    },
    {
      "cell_type": "code",
      "source": [
        "df.describe()"
      ],
      "metadata": {
        "colab": {
          "base_uri": "https://localhost:8080/",
          "height": 300
        },
        "id": "JKA4Ln5UCGfu",
        "outputId": "bf30d814-f6bb-4252-8df2-7032c3bd7689"
      },
      "execution_count": null,
      "outputs": [
        {
          "output_type": "execute_result",
          "data": {
            "text/plain": [
              "              나이           키\n",
              "count   3.000000    3.000000\n",
              "mean   12.666667  166.666667\n",
              "std    10.692677   23.094011\n",
              "min     1.000000  140.000000\n",
              "25%     8.000000  160.000000\n",
              "50%    15.000000  180.000000\n",
              "75%    18.500000  180.000000\n",
              "max    22.000000  180.000000"
            ],
            "text/html": [
              "\n",
              "  <div id=\"df-97563a94-10d9-47c7-b8e6-6e4d7f6ec509\">\n",
              "    <div class=\"colab-df-container\">\n",
              "      <div>\n",
              "<style scoped>\n",
              "    .dataframe tbody tr th:only-of-type {\n",
              "        vertical-align: middle;\n",
              "    }\n",
              "\n",
              "    .dataframe tbody tr th {\n",
              "        vertical-align: top;\n",
              "    }\n",
              "\n",
              "    .dataframe thead th {\n",
              "        text-align: right;\n",
              "    }\n",
              "</style>\n",
              "<table border=\"1\" class=\"dataframe\">\n",
              "  <thead>\n",
              "    <tr style=\"text-align: right;\">\n",
              "      <th></th>\n",
              "      <th>나이</th>\n",
              "      <th>키</th>\n",
              "    </tr>\n",
              "  </thead>\n",
              "  <tbody>\n",
              "    <tr>\n",
              "      <th>count</th>\n",
              "      <td>3.000000</td>\n",
              "      <td>3.000000</td>\n",
              "    </tr>\n",
              "    <tr>\n",
              "      <th>mean</th>\n",
              "      <td>12.666667</td>\n",
              "      <td>166.666667</td>\n",
              "    </tr>\n",
              "    <tr>\n",
              "      <th>std</th>\n",
              "      <td>10.692677</td>\n",
              "      <td>23.094011</td>\n",
              "    </tr>\n",
              "    <tr>\n",
              "      <th>min</th>\n",
              "      <td>1.000000</td>\n",
              "      <td>140.000000</td>\n",
              "    </tr>\n",
              "    <tr>\n",
              "      <th>25%</th>\n",
              "      <td>8.000000</td>\n",
              "      <td>160.000000</td>\n",
              "    </tr>\n",
              "    <tr>\n",
              "      <th>50%</th>\n",
              "      <td>15.000000</td>\n",
              "      <td>180.000000</td>\n",
              "    </tr>\n",
              "    <tr>\n",
              "      <th>75%</th>\n",
              "      <td>18.500000</td>\n",
              "      <td>180.000000</td>\n",
              "    </tr>\n",
              "    <tr>\n",
              "      <th>max</th>\n",
              "      <td>22.000000</td>\n",
              "      <td>180.000000</td>\n",
              "    </tr>\n",
              "  </tbody>\n",
              "</table>\n",
              "</div>\n",
              "      <button class=\"colab-df-convert\" onclick=\"convertToInteractive('df-97563a94-10d9-47c7-b8e6-6e4d7f6ec509')\"\n",
              "              title=\"Convert this dataframe to an interactive table.\"\n",
              "              style=\"display:none;\">\n",
              "        \n",
              "  <svg xmlns=\"http://www.w3.org/2000/svg\" height=\"24px\"viewBox=\"0 0 24 24\"\n",
              "       width=\"24px\">\n",
              "    <path d=\"M0 0h24v24H0V0z\" fill=\"none\"/>\n",
              "    <path d=\"M18.56 5.44l.94 2.06.94-2.06 2.06-.94-2.06-.94-.94-2.06-.94 2.06-2.06.94zm-11 1L8.5 8.5l.94-2.06 2.06-.94-2.06-.94L8.5 2.5l-.94 2.06-2.06.94zm10 10l.94 2.06.94-2.06 2.06-.94-2.06-.94-.94-2.06-.94 2.06-2.06.94z\"/><path d=\"M17.41 7.96l-1.37-1.37c-.4-.4-.92-.59-1.43-.59-.52 0-1.04.2-1.43.59L10.3 9.45l-7.72 7.72c-.78.78-.78 2.05 0 2.83L4 21.41c.39.39.9.59 1.41.59.51 0 1.02-.2 1.41-.59l7.78-7.78 2.81-2.81c.8-.78.8-2.07 0-2.86zM5.41 20L4 18.59l7.72-7.72 1.47 1.35L5.41 20z\"/>\n",
              "  </svg>\n",
              "      </button>\n",
              "      \n",
              "  <style>\n",
              "    .colab-df-container {\n",
              "      display:flex;\n",
              "      flex-wrap:wrap;\n",
              "      gap: 12px;\n",
              "    }\n",
              "\n",
              "    .colab-df-convert {\n",
              "      background-color: #E8F0FE;\n",
              "      border: none;\n",
              "      border-radius: 50%;\n",
              "      cursor: pointer;\n",
              "      display: none;\n",
              "      fill: #1967D2;\n",
              "      height: 32px;\n",
              "      padding: 0 0 0 0;\n",
              "      width: 32px;\n",
              "    }\n",
              "\n",
              "    .colab-df-convert:hover {\n",
              "      background-color: #E2EBFA;\n",
              "      box-shadow: 0px 1px 2px rgba(60, 64, 67, 0.3), 0px 1px 3px 1px rgba(60, 64, 67, 0.15);\n",
              "      fill: #174EA6;\n",
              "    }\n",
              "\n",
              "    [theme=dark] .colab-df-convert {\n",
              "      background-color: #3B4455;\n",
              "      fill: #D2E3FC;\n",
              "    }\n",
              "\n",
              "    [theme=dark] .colab-df-convert:hover {\n",
              "      background-color: #434B5C;\n",
              "      box-shadow: 0px 1px 3px 1px rgba(0, 0, 0, 0.15);\n",
              "      filter: drop-shadow(0px 1px 2px rgba(0, 0, 0, 0.3));\n",
              "      fill: #FFFFFF;\n",
              "    }\n",
              "  </style>\n",
              "\n",
              "      <script>\n",
              "        const buttonEl =\n",
              "          document.querySelector('#df-97563a94-10d9-47c7-b8e6-6e4d7f6ec509 button.colab-df-convert');\n",
              "        buttonEl.style.display =\n",
              "          google.colab.kernel.accessAllowed ? 'block' : 'none';\n",
              "\n",
              "        async function convertToInteractive(key) {\n",
              "          const element = document.querySelector('#df-97563a94-10d9-47c7-b8e6-6e4d7f6ec509');\n",
              "          const dataTable =\n",
              "            await google.colab.kernel.invokeFunction('convertToInteractive',\n",
              "                                                     [key], {});\n",
              "          if (!dataTable) return;\n",
              "\n",
              "          const docLinkHtml = 'Like what you see? Visit the ' +\n",
              "            '<a target=\"_blank\" href=https://colab.research.google.com/notebooks/data_table.ipynb>data table notebook</a>'\n",
              "            + ' to learn more about interactive tables.';\n",
              "          element.innerHTML = '';\n",
              "          dataTable['output_type'] = 'display_data';\n",
              "          await google.colab.output.renderOutput(dataTable, element);\n",
              "          const docLink = document.createElement('div');\n",
              "          docLink.innerHTML = docLinkHtml;\n",
              "          element.appendChild(docLink);\n",
              "        }\n",
              "      </script>\n",
              "    </div>\n",
              "  </div>\n",
              "  "
            ]
          },
          "metadata": {},
          "execution_count": 32
        }
      ]
    },
    {
      "cell_type": "code",
      "source": [
        "ar1 = np.array([1,2,3,-4,5,-2])\n",
        "filter= ar1>=0\n",
        "far = ar1[filter]\n",
        "far"
      ],
      "metadata": {
        "colab": {
          "base_uri": "https://localhost:8080/"
        },
        "id": "FDpzyAISCZeV",
        "outputId": "d1fb7d2c-9ef2-4d49-9741-34a703f0907d"
      },
      "execution_count": null,
      "outputs": [
        {
          "output_type": "execute_result",
          "data": {
            "text/plain": [
              "array([1, 2, 3, 5])"
            ]
          },
          "metadata": {},
          "execution_count": 33
        }
      ]
    },
    {
      "cell_type": "code",
      "source": [
        "far = ar1[ar1>=0]\n",
        "far"
      ],
      "metadata": {
        "colab": {
          "base_uri": "https://localhost:8080/"
        },
        "id": "cEIOqmC1CnGX",
        "outputId": "f4da356c-717e-419c-ba50-efd09f5b3e9e"
      },
      "execution_count": null,
      "outputs": [
        {
          "output_type": "execute_result",
          "data": {
            "text/plain": [
              "array([1, 2, 3, 5])"
            ]
          },
          "metadata": {},
          "execution_count": 34
        }
      ]
    },
    {
      "cell_type": "code",
      "source": [
        "temp = ar1>=0\n",
        "temp"
      ],
      "metadata": {
        "colab": {
          "base_uri": "https://localhost:8080/"
        },
        "id": "3atDeHj2C8LQ",
        "outputId": "ca472af3-ddda-42fa-f11a-1558ee1dd840"
      },
      "execution_count": null,
      "outputs": [
        {
          "output_type": "execute_result",
          "data": {
            "text/plain": [
              "array([ True,  True,  True, False,  True, False])"
            ]
          },
          "metadata": {},
          "execution_count": 35
        }
      ]
    },
    {
      "cell_type": "code",
      "source": [
        "far = ar1[temp]\n",
        "far"
      ],
      "metadata": {
        "colab": {
          "base_uri": "https://localhost:8080/"
        },
        "id": "2oacOthmC-dv",
        "outputId": "01d2918c-f601-4eb0-b05b-9e234ef9e6d1"
      },
      "execution_count": null,
      "outputs": [
        {
          "output_type": "execute_result",
          "data": {
            "text/plain": [
              "array([1, 2, 3, 5])"
            ]
          },
          "metadata": {},
          "execution_count": 36
        }
      ]
    },
    {
      "cell_type": "code",
      "source": [
        "df"
      ],
      "metadata": {
        "colab": {
          "base_uri": "https://localhost:8080/",
          "height": 143
        },
        "id": "ctb5ZCtEDa0Z",
        "outputId": "c2d83b5a-288d-4d98-ef48-54754f6bce04"
      },
      "execution_count": null,
      "outputs": [
        {
          "output_type": "execute_result",
          "data": {
            "text/plain": [
              "   아이디    이름                이메일  나이      키\n",
              "0  aaa   홍길동  gildpng@naver.com   1  140.0\n",
              "1  bbb  제갈길동    jegal@naver.com  15  180.0\n",
              "2  ccc  독고길동    doggo@naver.com  22  180.0"
            ],
            "text/html": [
              "\n",
              "  <div id=\"df-ce699abe-0011-4d7b-9bdf-f86000426e6d\">\n",
              "    <div class=\"colab-df-container\">\n",
              "      <div>\n",
              "<style scoped>\n",
              "    .dataframe tbody tr th:only-of-type {\n",
              "        vertical-align: middle;\n",
              "    }\n",
              "\n",
              "    .dataframe tbody tr th {\n",
              "        vertical-align: top;\n",
              "    }\n",
              "\n",
              "    .dataframe thead th {\n",
              "        text-align: right;\n",
              "    }\n",
              "</style>\n",
              "<table border=\"1\" class=\"dataframe\">\n",
              "  <thead>\n",
              "    <tr style=\"text-align: right;\">\n",
              "      <th></th>\n",
              "      <th>아이디</th>\n",
              "      <th>이름</th>\n",
              "      <th>이메일</th>\n",
              "      <th>나이</th>\n",
              "      <th>키</th>\n",
              "    </tr>\n",
              "  </thead>\n",
              "  <tbody>\n",
              "    <tr>\n",
              "      <th>0</th>\n",
              "      <td>aaa</td>\n",
              "      <td>홍길동</td>\n",
              "      <td>gildpng@naver.com</td>\n",
              "      <td>1</td>\n",
              "      <td>140.0</td>\n",
              "    </tr>\n",
              "    <tr>\n",
              "      <th>1</th>\n",
              "      <td>bbb</td>\n",
              "      <td>제갈길동</td>\n",
              "      <td>jegal@naver.com</td>\n",
              "      <td>15</td>\n",
              "      <td>180.0</td>\n",
              "    </tr>\n",
              "    <tr>\n",
              "      <th>2</th>\n",
              "      <td>ccc</td>\n",
              "      <td>독고길동</td>\n",
              "      <td>doggo@naver.com</td>\n",
              "      <td>22</td>\n",
              "      <td>180.0</td>\n",
              "    </tr>\n",
              "  </tbody>\n",
              "</table>\n",
              "</div>\n",
              "      <button class=\"colab-df-convert\" onclick=\"convertToInteractive('df-ce699abe-0011-4d7b-9bdf-f86000426e6d')\"\n",
              "              title=\"Convert this dataframe to an interactive table.\"\n",
              "              style=\"display:none;\">\n",
              "        \n",
              "  <svg xmlns=\"http://www.w3.org/2000/svg\" height=\"24px\"viewBox=\"0 0 24 24\"\n",
              "       width=\"24px\">\n",
              "    <path d=\"M0 0h24v24H0V0z\" fill=\"none\"/>\n",
              "    <path d=\"M18.56 5.44l.94 2.06.94-2.06 2.06-.94-2.06-.94-.94-2.06-.94 2.06-2.06.94zm-11 1L8.5 8.5l.94-2.06 2.06-.94-2.06-.94L8.5 2.5l-.94 2.06-2.06.94zm10 10l.94 2.06.94-2.06 2.06-.94-2.06-.94-.94-2.06-.94 2.06-2.06.94z\"/><path d=\"M17.41 7.96l-1.37-1.37c-.4-.4-.92-.59-1.43-.59-.52 0-1.04.2-1.43.59L10.3 9.45l-7.72 7.72c-.78.78-.78 2.05 0 2.83L4 21.41c.39.39.9.59 1.41.59.51 0 1.02-.2 1.41-.59l7.78-7.78 2.81-2.81c.8-.78.8-2.07 0-2.86zM5.41 20L4 18.59l7.72-7.72 1.47 1.35L5.41 20z\"/>\n",
              "  </svg>\n",
              "      </button>\n",
              "      \n",
              "  <style>\n",
              "    .colab-df-container {\n",
              "      display:flex;\n",
              "      flex-wrap:wrap;\n",
              "      gap: 12px;\n",
              "    }\n",
              "\n",
              "    .colab-df-convert {\n",
              "      background-color: #E8F0FE;\n",
              "      border: none;\n",
              "      border-radius: 50%;\n",
              "      cursor: pointer;\n",
              "      display: none;\n",
              "      fill: #1967D2;\n",
              "      height: 32px;\n",
              "      padding: 0 0 0 0;\n",
              "      width: 32px;\n",
              "    }\n",
              "\n",
              "    .colab-df-convert:hover {\n",
              "      background-color: #E2EBFA;\n",
              "      box-shadow: 0px 1px 2px rgba(60, 64, 67, 0.3), 0px 1px 3px 1px rgba(60, 64, 67, 0.15);\n",
              "      fill: #174EA6;\n",
              "    }\n",
              "\n",
              "    [theme=dark] .colab-df-convert {\n",
              "      background-color: #3B4455;\n",
              "      fill: #D2E3FC;\n",
              "    }\n",
              "\n",
              "    [theme=dark] .colab-df-convert:hover {\n",
              "      background-color: #434B5C;\n",
              "      box-shadow: 0px 1px 3px 1px rgba(0, 0, 0, 0.15);\n",
              "      filter: drop-shadow(0px 1px 2px rgba(0, 0, 0, 0.3));\n",
              "      fill: #FFFFFF;\n",
              "    }\n",
              "  </style>\n",
              "\n",
              "      <script>\n",
              "        const buttonEl =\n",
              "          document.querySelector('#df-ce699abe-0011-4d7b-9bdf-f86000426e6d button.colab-df-convert');\n",
              "        buttonEl.style.display =\n",
              "          google.colab.kernel.accessAllowed ? 'block' : 'none';\n",
              "\n",
              "        async function convertToInteractive(key) {\n",
              "          const element = document.querySelector('#df-ce699abe-0011-4d7b-9bdf-f86000426e6d');\n",
              "          const dataTable =\n",
              "            await google.colab.kernel.invokeFunction('convertToInteractive',\n",
              "                                                     [key], {});\n",
              "          if (!dataTable) return;\n",
              "\n",
              "          const docLinkHtml = 'Like what you see? Visit the ' +\n",
              "            '<a target=\"_blank\" href=https://colab.research.google.com/notebooks/data_table.ipynb>data table notebook</a>'\n",
              "            + ' to learn more about interactive tables.';\n",
              "          element.innerHTML = '';\n",
              "          dataTable['output_type'] = 'display_data';\n",
              "          await google.colab.output.renderOutput(dataTable, element);\n",
              "          const docLink = document.createElement('div');\n",
              "          docLink.innerHTML = docLinkHtml;\n",
              "          element.appendChild(docLink);\n",
              "        }\n",
              "      </script>\n",
              "    </div>\n",
              "  </div>\n",
              "  "
            ]
          },
          "metadata": {},
          "execution_count": 37
        }
      ]
    },
    {
      "cell_type": "code",
      "source": [
        "sw_temp = df[['이름','키']]\n",
        "print(type(sw_temp))\n",
        "sw_temp"
      ],
      "metadata": {
        "colab": {
          "base_uri": "https://localhost:8080/",
          "height": 162
        },
        "id": "VdRzuKTQDvMB",
        "outputId": "ebf9ca16-1a57-45e2-a855-41e79a4ad5a4"
      },
      "execution_count": null,
      "outputs": [
        {
          "output_type": "stream",
          "name": "stdout",
          "text": [
            "<class 'pandas.core.frame.DataFrame'>\n"
          ]
        },
        {
          "output_type": "execute_result",
          "data": {
            "text/plain": [
              "     이름      키\n",
              "0   홍길동  140.0\n",
              "1  제갈길동  180.0\n",
              "2  독고길동  180.0"
            ],
            "text/html": [
              "\n",
              "  <div id=\"df-64dc9b6b-26b8-4dce-9475-377d9e232792\">\n",
              "    <div class=\"colab-df-container\">\n",
              "      <div>\n",
              "<style scoped>\n",
              "    .dataframe tbody tr th:only-of-type {\n",
              "        vertical-align: middle;\n",
              "    }\n",
              "\n",
              "    .dataframe tbody tr th {\n",
              "        vertical-align: top;\n",
              "    }\n",
              "\n",
              "    .dataframe thead th {\n",
              "        text-align: right;\n",
              "    }\n",
              "</style>\n",
              "<table border=\"1\" class=\"dataframe\">\n",
              "  <thead>\n",
              "    <tr style=\"text-align: right;\">\n",
              "      <th></th>\n",
              "      <th>이름</th>\n",
              "      <th>키</th>\n",
              "    </tr>\n",
              "  </thead>\n",
              "  <tbody>\n",
              "    <tr>\n",
              "      <th>0</th>\n",
              "      <td>홍길동</td>\n",
              "      <td>140.0</td>\n",
              "    </tr>\n",
              "    <tr>\n",
              "      <th>1</th>\n",
              "      <td>제갈길동</td>\n",
              "      <td>180.0</td>\n",
              "    </tr>\n",
              "    <tr>\n",
              "      <th>2</th>\n",
              "      <td>독고길동</td>\n",
              "      <td>180.0</td>\n",
              "    </tr>\n",
              "  </tbody>\n",
              "</table>\n",
              "</div>\n",
              "      <button class=\"colab-df-convert\" onclick=\"convertToInteractive('df-64dc9b6b-26b8-4dce-9475-377d9e232792')\"\n",
              "              title=\"Convert this dataframe to an interactive table.\"\n",
              "              style=\"display:none;\">\n",
              "        \n",
              "  <svg xmlns=\"http://www.w3.org/2000/svg\" height=\"24px\"viewBox=\"0 0 24 24\"\n",
              "       width=\"24px\">\n",
              "    <path d=\"M0 0h24v24H0V0z\" fill=\"none\"/>\n",
              "    <path d=\"M18.56 5.44l.94 2.06.94-2.06 2.06-.94-2.06-.94-.94-2.06-.94 2.06-2.06.94zm-11 1L8.5 8.5l.94-2.06 2.06-.94-2.06-.94L8.5 2.5l-.94 2.06-2.06.94zm10 10l.94 2.06.94-2.06 2.06-.94-2.06-.94-.94-2.06-.94 2.06-2.06.94z\"/><path d=\"M17.41 7.96l-1.37-1.37c-.4-.4-.92-.59-1.43-.59-.52 0-1.04.2-1.43.59L10.3 9.45l-7.72 7.72c-.78.78-.78 2.05 0 2.83L4 21.41c.39.39.9.59 1.41.59.51 0 1.02-.2 1.41-.59l7.78-7.78 2.81-2.81c.8-.78.8-2.07 0-2.86zM5.41 20L4 18.59l7.72-7.72 1.47 1.35L5.41 20z\"/>\n",
              "  </svg>\n",
              "      </button>\n",
              "      \n",
              "  <style>\n",
              "    .colab-df-container {\n",
              "      display:flex;\n",
              "      flex-wrap:wrap;\n",
              "      gap: 12px;\n",
              "    }\n",
              "\n",
              "    .colab-df-convert {\n",
              "      background-color: #E8F0FE;\n",
              "      border: none;\n",
              "      border-radius: 50%;\n",
              "      cursor: pointer;\n",
              "      display: none;\n",
              "      fill: #1967D2;\n",
              "      height: 32px;\n",
              "      padding: 0 0 0 0;\n",
              "      width: 32px;\n",
              "    }\n",
              "\n",
              "    .colab-df-convert:hover {\n",
              "      background-color: #E2EBFA;\n",
              "      box-shadow: 0px 1px 2px rgba(60, 64, 67, 0.3), 0px 1px 3px 1px rgba(60, 64, 67, 0.15);\n",
              "      fill: #174EA6;\n",
              "    }\n",
              "\n",
              "    [theme=dark] .colab-df-convert {\n",
              "      background-color: #3B4455;\n",
              "      fill: #D2E3FC;\n",
              "    }\n",
              "\n",
              "    [theme=dark] .colab-df-convert:hover {\n",
              "      background-color: #434B5C;\n",
              "      box-shadow: 0px 1px 3px 1px rgba(0, 0, 0, 0.15);\n",
              "      filter: drop-shadow(0px 1px 2px rgba(0, 0, 0, 0.3));\n",
              "      fill: #FFFFFF;\n",
              "    }\n",
              "  </style>\n",
              "\n",
              "      <script>\n",
              "        const buttonEl =\n",
              "          document.querySelector('#df-64dc9b6b-26b8-4dce-9475-377d9e232792 button.colab-df-convert');\n",
              "        buttonEl.style.display =\n",
              "          google.colab.kernel.accessAllowed ? 'block' : 'none';\n",
              "\n",
              "        async function convertToInteractive(key) {\n",
              "          const element = document.querySelector('#df-64dc9b6b-26b8-4dce-9475-377d9e232792');\n",
              "          const dataTable =\n",
              "            await google.colab.kernel.invokeFunction('convertToInteractive',\n",
              "                                                     [key], {});\n",
              "          if (!dataTable) return;\n",
              "\n",
              "          const docLinkHtml = 'Like what you see? Visit the ' +\n",
              "            '<a target=\"_blank\" href=https://colab.research.google.com/notebooks/data_table.ipynb>data table notebook</a>'\n",
              "            + ' to learn more about interactive tables.';\n",
              "          element.innerHTML = '';\n",
              "          dataTable['output_type'] = 'display_data';\n",
              "          await google.colab.output.renderOutput(dataTable, element);\n",
              "          const docLink = document.createElement('div');\n",
              "          docLink.innerHTML = docLinkHtml;\n",
              "          element.appendChild(docLink);\n",
              "        }\n",
              "      </script>\n",
              "    </div>\n",
              "  </div>\n",
              "  "
            ]
          },
          "metadata": {},
          "execution_count": 38
        }
      ]
    },
    {
      "cell_type": "code",
      "source": [
        "sw_arr =sw_temp.to_numpy()\n",
        "type(sw_arr)\n",
        "sw_arr"
      ],
      "metadata": {
        "colab": {
          "base_uri": "https://localhost:8080/"
        },
        "id": "2T57hSv6EJC4",
        "outputId": "6fcdaad5-c960-4ed8-bc35-89a3991d84c1"
      },
      "execution_count": null,
      "outputs": [
        {
          "output_type": "execute_result",
          "data": {
            "text/plain": [
              "array([['홍길동', 140.0],\n",
              "       ['제갈길동', 180.0],\n",
              "       ['독고길동', 180.0]], dtype=object)"
            ]
          },
          "metadata": {},
          "execution_count": 39
        }
      ]
    },
    {
      "cell_type": "code",
      "source": [
        "ar1 = [1,2,3,4]\n",
        "ar2 = [4,5,6,7]\n",
        "\n",
        "se1 = pd.Series(ar1)\n",
        "se2 = pd.Series(ar2)\n",
        "\n",
        "print(se1.corr(se2))"
      ],
      "metadata": {
        "colab": {
          "base_uri": "https://localhost:8080/"
        },
        "id": "58dSeRdLE90t",
        "outputId": "d31f3396-64f0-496b-d2b5-c1b0ec7f9f97"
      },
      "execution_count": null,
      "outputs": [
        {
          "output_type": "stream",
          "name": "stdout",
          "text": [
            "1.0\n"
          ]
        }
      ]
    },
    {
      "cell_type": "markdown",
      "source": [
        "Al,ML,DL의 내부 원리(수학, 엔진)"
      ],
      "metadata": {
        "id": "PyvUfX0YKI0g"
      }
    },
    {
      "cell_type": "code",
      "source": [
        "from sklearn.linear_model import LinearRegression"
      ],
      "metadata": {
        "id": "HofUh9kHKIN5"
      },
      "execution_count": 4,
      "outputs": []
    },
    {
      "cell_type": "code",
      "source": [
        "xs = [x for x in range(100)]\n",
        "ys = [(2+np.random.uniform(-0.1,0.1))*x+3+np.random.uniform(-2,2) for x in xs] #절편 -2~ 5까지\n",
        "import matplotlib.pyplot as plt\n",
        "plt.figure(figsize=(5,5))\n",
        "plt.plot(xs,ys,'b.')\n",
        "plt.xlim((0,200))\n",
        "plt.ylim((0,200))\n",
        "plt.show()"
      ],
      "metadata": {
        "colab": {
          "base_uri": "https://localhost:8080/",
          "height": 324
        },
        "id": "wsAf0miwPcca",
        "outputId": "0cccd231-0eba-4ba7-934d-e6f31fe9e03b"
      },
      "execution_count": 5,
      "outputs": [
        {
          "output_type": "display_data",
          "data": {
            "text/plain": [
              "<Figure size 360x360 with 1 Axes>"
            ],
            "image/png": "[encoded data removed]"
          },
          "metadata": {
            "needs_background": "light"
          }
        }
      ]
    },
    {
      "cell_type": "code",
      "source": [
        "xs2 = [[x] for x in xs]\n",
        "model = LinearRegression() #선형 모델 개체 생성\n",
        "model.fit(xs2,ys) #학습\n",
        "print(model.coef_,model.intercept_) #선형 회귀 함수의 가중치, 편향"
      ],
      "metadata": {
        "colab": {
          "base_uri": "https://localhost:8080/"
        },
        "id": "AJKZ6BNPQWss",
        "outputId": "a6e06b6e-13b8-4258-8b6d-84451094880b"
      },
      "execution_count": null,
      "outputs": [
        {
          "output_type": "stream",
          "name": "stdout",
          "text": [
            "[2.02158624] 2.303156311420693\n"
          ]
        }
      ]
    },
    {
      "cell_type": "code",
      "source": [
        "def mse(yp,y):\n",
        "  \"\"\"\n",
        "  yp:예측값\n",
        "  y:실제값\n",
        "  \"\"\"\n",
        "  return sum((yp-y)**2)/len(y)"
      ],
      "metadata": {
        "id": "C5KDHsseYFt3"
      },
      "execution_count": null,
      "outputs": []
    },
    {
      "cell_type": "code",
      "source": [
        "w1 = 1\n",
        "w2 = 2\n",
        "w3 = 3\n",
        "b1 = 1\n",
        "b2 = 2\n",
        "b3 = 3\n",
        "\n",
        "xarr = np.array(xs)\n",
        "yarr = np.array(ys)\n",
        "\n",
        "yp11 = w1*xarr + b1\n",
        "yp12 = w1*xarr + b2\n",
        "yp13 = w1*xarr + b3\n",
        "\n",
        "yp21 = w1*xarr + b1\n",
        "yp22 = w1*xarr + b2\n",
        "yp23 = w1*xarr + b3\n",
        "\n",
        "yp31 = w1*xarr + b1\n",
        "yp32 = w1*xarr + b2\n",
        "yp33 = w1*xarr + b3\n",
        "print(mse(yp11,yarr))\n",
        "print(mse(yp12,yarr))\n",
        "print(mse(yp13,yarr))\n",
        "print(mse(yp21,yarr))\n",
        "print(mse(yp22,yarr))\n",
        "print(mse(yp23,yarr))\n",
        "print(mse(yp31,yarr))\n",
        "print(mse(yp32,yarr))\n",
        "print(mse(yp33,yarr))\n"
      ],
      "metadata": {
        "colab": {
          "base_uri": "https://localhost:8080/"
        },
        "id": "L2jTVxxIYRwj",
        "outputId": "4ea03cf8-5628-4d3f-b1fd-d4d817e89b22"
      },
      "execution_count": null,
      "outputs": [
        {
          "output_type": "stream",
          "name": "stdout",
          "text": [
            "3570.6527567786316\n",
            "3467.909406760614\n",
            "3367.1660567425947\n",
            "3570.6527567786316\n",
            "3467.909406760614\n",
            "3367.1660567425947\n",
            "3570.6527567786316\n",
            "3467.909406760614\n",
            "3367.1660567425947\n"
          ]
        }
      ]
    },
    {
      "cell_type": "code",
      "source": [
        "b=2\n",
        "ws = [w/10 for w in range(-100,100)] #-10~10, step:0.1\n",
        "mses = []\n",
        "for w in ws:\n",
        "  yp = w*xarr +b\n",
        "  mses.append(mse(yp,yarr))\n",
        "\n",
        "plt.plot(ws,mses)\n",
        "plt.xlabel(\"w\")\n",
        "plt.ylabel(\"mse\")\n",
        "plt.show()"
      ],
      "metadata": {
        "colab": {
          "base_uri": "https://localhost:8080/",
          "height": 279
        },
        "id": "597tdbkoYSCm",
        "outputId": "51e7b3e1-b8cd-446c-f2ae-008512767ca1"
      },
      "execution_count": null,
      "outputs": [
        {
          "output_type": "display_data",
          "data": {
            "text/plain": [
              "<Figure size 432x288 with 1 Axes>"
            ],
            "image/png": "[encoded data removed]"
          },
          "metadata": {
            "needs_background": "light"
          }
        }
      ]
    },
    {
      "cell_type": "markdown",
      "source": [
        "KNN 회귀"
      ],
      "metadata": {
        "id": "r0r9mbcec8A6"
      }
    },
    {
      "cell_type": "code",
      "source": [
        "iris_data = load_iris()\n",
        "xs = iris_data.data\n",
        "ys = iris_data.target\n",
        "xs.shape, ys.shape"
      ],
      "metadata": {
        "id": "9KW6eo88YSTq"
      },
      "execution_count": null,
      "outputs": []
    },
    {
      "cell_type": "code",
      "source": [
        "xs[9],xs[59],xs[109]"
      ],
      "metadata": {
        "id": "ZkqfWd5AdPh1"
      },
      "execution_count": null,
      "outputs": []
    },
    {
      "cell_type": "code",
      "source": [
        "from sklearn.neighbors import KNeighborsRegressor"
      ],
      "metadata": {
        "id": "W89srRL4dFhO"
      },
      "execution_count": 10,
      "outputs": []
    },
    {
      "cell_type": "code",
      "source": [
        "model = KNeighborsRegressor()\n",
        "model.fit(xs,ys)\n",
        "p_vals = model.predict([[5,3,1,6,0,1],[5,1,2,7,4,1,4],[7,3,5,6,2,5]])\n",
        "p_vals,ys[9],ys[59],ys[109]"
      ],
      "metadata": {
        "id": "m0zdZyv1dS6b"
      },
      "execution_count": null,
      "outputs": []
    },
    {
      "cell_type": "code",
      "source": [
        "xs = [[172,0.68],[180,0.70],[169,0.70],[165,0.50],[180,0.73],[170,0.64]]\n",
        "x1 = [x[0] for x in xs]\n",
        "x2 = [x[0] for x in xs]\n",
        "plt.plot(x1,x2,'b.')\n",
        "plt.show()"
      ],
      "metadata": {
        "colab": {
          "base_uri": "https://localhost:8080/",
          "height": 265
        },
        "id": "0afmrYXXekaH",
        "outputId": "7c4eda0e-b036-415c-a89a-b2b4e29df115"
      },
      "execution_count": null,
      "outputs": [
        {
          "output_type": "display_data",
          "data": {
            "text/plain": [
              "<Figure size 432x288 with 1 Axes>"
            ],
            "image/png": "[encoded data removed]"
          },
          "metadata": {
            "needs_background": "light"
          }
        }
      ]
    },
    {
      "cell_type": "code",
      "source": [
        "xd = [[177,0.50]]\n",
        "xd1 = xd[0][0]\n",
        "xd2 = xd[0][1]\n",
        "xd1,xd2"
      ],
      "metadata": {
        "colab": {
          "base_uri": "https://localhost:8080/"
        },
        "id": "vu9sT970fBrO",
        "outputId": "b0dc67cf-064d-4349-fe75-9c8da6ee411d"
      },
      "execution_count": null,
      "outputs": [
        {
          "output_type": "execute_result",
          "data": {
            "text/plain": [
              "(177, 0.5)"
            ]
          },
          "metadata": {},
          "execution_count": 56
        }
      ]
    },
    {
      "cell_type": "code",
      "source": [
        "\n",
        "plt.plot(xd1,xd2,'ro')\n",
        "plt.plot(xd1,xd2,'b.')\n",
        "plt.xlim(0,190)\n",
        "plt.ylim(0,0.80)\n",
        "plt.show()"
      ],
      "metadata": {
        "colab": {
          "base_uri": "https://localhost:8080/",
          "height": 269
        },
        "id": "CmNyf8xJfKNe",
        "outputId": "d63cdec4-e1a7-4f96-cd74-81d79c1382ee"
      },
      "execution_count": null,
      "outputs": [
        {
          "output_type": "display_data",
          "data": {
            "text/plain": [
              "<Figure size 432x288 with 1 Axes>"
            ],
            "image/png": "[encoded data removed]"
          },
          "metadata": {
            "needs_background": "light"
          }
        }
      ]
    },
    {
      "cell_type": "code",
      "source": [
        "plt.figure(figsize=(5,5))\n",
        "plt.plot(xd1,xd2,'ro')\n",
        "plt.plot(x1,x2,'b.')\n",
        "plt.xlim(0,190)\n",
        "plt.ylim(0,190)\n",
        "plt.xlabel(\"height\")\n",
        "plt.ylabel(\"weight\")\n",
        "plt.show()"
      ],
      "metadata": {
        "colab": {
          "base_uri": "https://localhost:8080/",
          "height": 279
        },
        "id": "FW0NzGRBgPut",
        "outputId": "38b14daf-c18f-4475-9d63-7e05e39d9217"
      },
      "execution_count": null,
      "outputs": [
        {
          "output_type": "display_data",
          "data": {
            "text/plain": [
              "<Figure size 432x288 with 1 Axes>"
            ],
            "image/png": "[encoded data removed]"
          },
          "metadata": {
            "needs_background": "light"
          }
        }
      ]
    },
    {
      "cell_type": "code",
      "source": [
        "xarr1 = np.array(x1)\n",
        "xarr2 = np.array(x2)"
      ],
      "metadata": {
        "id": "Dqx8dZxQyFm3"
      },
      "execution_count": null,
      "outputs": []
    },
    {
      "cell_type": "code",
      "source": [
        "m1 = xarr1.mean()\n",
        "s1 = np.std(xarr1)\n",
        "m2 = xarr2.mean()\n",
        "s2 = np.std(xarr2)\n",
        "xarr1 = (xarr1-xarr1.mean())/np.std(xarr1) #평균을 빼고 표준편차로 나누고 : rescale\n",
        "xarr2 = (xarr2-xarr2.mean())/np.std(xarr2)\n"
      ],
      "metadata": {
        "id": "Uh8-FqBqyFig"
      },
      "execution_count": null,
      "outputs": []
    },
    {
      "cell_type": "code",
      "source": [
        "xdj1 = (xd1 - m1)/s1 #x1의 평균을 빼고 표준편차로 나누고\n",
        "xdj2 = (xd2 - m2)/s2"
      ],
      "metadata": {
        "id": "mRyLDA6yyFey"
      },
      "execution_count": null,
      "outputs": []
    },
    {
      "cell_type": "code",
      "source": [
        "xarr1.mean(), np.std(xarr1)"
      ],
      "metadata": {
        "id": "bQ0xZwsiyFbN"
      },
      "execution_count": null,
      "outputs": []
    },
    {
      "cell_type": "code",
      "source": [
        "plt.figure(figsize=(5,5))\n",
        "plt.plot(xarr1,xarr2,'b.')\n",
        "plt.plot(xdj1,xdj2,\"ro\")\n",
        "plt.xlim(-3,3)\n",
        "plt.ylim(-3,3)\n",
        "plt.show()"
      ],
      "metadata": {
        "id": "JES5-4lUyFXS"
      },
      "execution_count": null,
      "outputs": []
    },
    {
      "cell_type": "markdown",
      "source": [
        "# 선형 회귀 VS KNN 회귀\n",
        "\n",
        "선형 회귀는 학습 단계에서 선형 회귀 함수를 결정하고\n",
        "\n",
        "예측할 떄는 선형 회귀 함수를 이용하여 회귀값을 예측한다.\n",
        "\n",
        "KNN 회귀는 학습 단계에서는 독립 변수와 종속 변수를 기억하고\n",
        "\n",
        "예측할 때 거리를 계산하여 이웃들의 평균값으로 회귀값을 예측한다.\n",
        "\n",
        "선형 회귀는 학습 단계에서 비용이 많이 들고\n",
        "\n",
        "KNN 회귀는 예측 단계에서 비용이 많이 든다.\n",
        "\n",
        "독립 변수와 종속 변수의 관계가 선형 관계가 아니더라도 KNN 회귀는 준수한 예측값을 얻을 수 있다.\n",
        "\n",
        "학습에 사용한 독립 변수의 특성 값의 범위를 벗어났을 때 \n",
        "선형 회귀에서는 선형 회귀 함수를 이용하여 예측하기 때문에 원하는 예측값을 얻을 수 있다.\n",
        "\n",
        "KNN 회귀에서는 존재하는 학습 데이터 들 중에 가까운 이웃을 찾기 때문에 유의미하지 않은 예측값을 얻을 수 있다.\n",
        "\n",
        "독립 변수와 종속 변수가 선형 관계가 아니라는 합리적 판단이 들 때 어떠한 회귀를 사용할까?\n",
        "\n",
        "독립 변수를 확장하라.\n",
        "\n",
        "예를 들어 x1, x2가 있을 떄\n",
        "이처럼 다양한 독립 변수로 확장하여 사용하라.\n",
        "[x1, x2, x1*x2, x1*x1, x2*x2]\n",
        "\n",
        "y = w1x1 + w2x2 + w3x1x2 + w4x1x1 + w5x2x2"
      ],
      "metadata": {
        "id": "nkkYfCyyyN7j"
      }
    },
    {
      "cell_type": "code",
      "source": [
        "import numpy as np\n",
        "xs = [x/10 for x in range(-100,100)] #-10~10, step:0.1\n",
        "xs2 = [x**2 for x in xs] \n",
        "xarr = np.array(xs)\n",
        "xarr2 = np.array(xs2)\n",
        "xarr.shape, xarr2.shape"
      ],
      "metadata": {
        "id": "ZRGyQArxyFOa"
      },
      "execution_count": null,
      "outputs": []
    },
    {
      "cell_type": "code",
      "source": [
        "ys = [3*x**2 + 4*x + 7 + np.random.uniform(-5,5) for x in xs]\n",
        "yarr = np.array(ys)\n",
        "yarr.shape"
      ],
      "metadata": {
        "id": "PP5wWrtYyE-h"
      },
      "execution_count": null,
      "outputs": []
    },
    {
      "cell_type": "code",
      "source": [
        "import matplotlib.pyplot as plt\n",
        "plt.plot(xs,ys,'b.')\n",
        "plt.xlabel('x')\n",
        "plt.ylabel('y')\n",
        "plt.show()"
      ],
      "metadata": {
        "id": "jZ1d7z9eyVAj"
      },
      "execution_count": null,
      "outputs": []
    },
    {
      "cell_type": "code",
      "source": [
        "xsarr = np.array([[xarr[i],xarr2[i]] for i in range(len(xarr))])\n",
        "xsarr.shape"
      ],
      "metadata": {
        "id": "bgd468tJyU8O"
      },
      "execution_count": null,
      "outputs": []
    },
    {
      "cell_type": "code",
      "source": [
        "from sklearn.linear_model import LinearRegression\n"
      ],
      "metadata": {
        "id": "vvJXer_VyU3c"
      },
      "execution_count": null,
      "outputs": []
    },
    {
      "cell_type": "code",
      "source": [
        "model = LinearRegression()\n",
        "model.fit(xsarr,yarr)\n",
        "model.coef_, model.intercept_\n",
        "#3*x**2 + 4*x + 7"
      ],
      "metadata": {
        "id": "alXof0E-yUyB"
      },
      "execution_count": null,
      "outputs": []
    },
    {
      "cell_type": "markdown",
      "source": [
        "# 분류모델\n",
        "\n",
        "로지스틱 회귀: 이항 분류\n",
        "\n",
        "KNN 분류: 다항 분류\n",
        "\n",
        "softmax: 다항 분류\n"
      ],
      "metadata": {
        "id": "Qwj2m6wKyc9w"
      }
    },
    {
      "cell_type": "markdown",
      "source": [
        "\"\"\"\n",
        "\n",
        "import math\n",
        "\n",
        "\"\"\"사건 a가 발생할 확률을 P(a)라고 한다. 0<=P(a)<=1\n",
        "\n",
        "P(a and b)는 사건 a와 b가 발생할 확률을 말한다.\n",
        "\n",
        "P(a|b)는 사건 b가 발생한 상태에서 사건 a가 발생할 확률(조건부 확률)을 말한다.\n",
        "\n",
        "P(a and b) = P(a|b)*P(b) 이다.\n",
        "\n",
        "만약, 사건 a와 사건 b가 독립 사건이라면\n",
        "\n",
        "P(a|b) = P(a)이다.\n",
        "\n",
        "P(a and b) = P(a|b)*P(b) = P(a)*P(b)\n",
        "\n",
        "a,b,c,d,e가 모두 독립 사건일 때\n",
        "P(a and b and c and d and e) = P(a)P(b)P(c)P(d)P(e)\n",
        "\n",
        "P(a), P(b), P(c), P(d), P(e) 중에 하나라도 0이 있으면 결과가 0이다.\n",
        "\n",
        "확률에 log를 취하는 것을 logit이라 부른다.\n",
        "logit(P(a and b and c and d and e)= logit(P(a)) + logit(P(b)) + logit(P(c)) + logit(P(d)) + logit(P(e)))\n",
        "\"\"\""
      ],
      "metadata": {
        "id": "sUShF_RiygrM"
      }
    },
    {
      "cell_type": "code",
      "source": [
        "import math\n",
        "\n",
        "a=3\n",
        "b=2\n",
        "r = math.log(a)+math.log(b)\n",
        "r2 = math.log(a*b)\n",
        "r,r2\n",
        "\n",
        "r3 = math.exp(r)\n",
        "r3\n",
        "\n",
        "from sklearn.linear_model import LogisticRegression\n"
      ],
      "metadata": {
        "id": "yDgSLm3UykOE"
      },
      "execution_count": null,
      "outputs": []
    },
    {
      "cell_type": "markdown",
      "source": [
        "# 다항 분류\n",
        "\n",
        "\n",
        "*   KNN 분류 \n",
        "\n",
        "K개의 이웃을 찾아 가장 많은 빈돗수에 해당하는 클래스로 예측하는 모델\n",
        "\n",
        "\n",
        "\n",
        "*   softmax\n",
        "\n",
        "우선 모든 모든 분류의 특정 클래스일 확률을 계산한다.(로지스틱 회귀를 이용하여)\n",
        "\n",
        "클래스 A의 logistic 회귀 결과를 P(A)\n",
        "\n",
        "클래스 B의 logistic 회귀 결과를 P(B)\n",
        "\n",
        "클래스 C의 logistic 회귀 결과를 P(C)\n",
        "\n",
        "클래스 D의 logistic 회귀 결과를 P(D)\n",
        "...\n",
        "P(A)+P(B)+P(C)+P(D)+... = 1이어야 하지만 실제 결과는 1과 비슷한 값일 뿐 정확한 1이 아닐 수 있다.\n",
        "\n",
        "SP=P(A)+P(B)+P(C)+P(D)+... \n",
        "\n",
        "클래스 A의 logistic 회귀 결과를 P(A)/SP\n",
        "\n",
        "클래스 B의 logistic 회귀 결과를 P(B)/SP\n",
        "\n",
        "클래스 C의 logistic 회귀 결과를 P(C)/SP\n",
        "\n",
        "클래스 D의 logistic 회귀 결과를 P(D)/SP\n",
        "\n",
        "로 결정하는 것을 softmax라고 부른다."
      ],
      "metadata": {
        "id": "bOYqLdFayryC"
      }
    },
    {
      "cell_type": "code",
      "source": [
        "import tensorflow as tf\n",
        "\n",
        "arr = np.array([0,1,2,2,3,1,2,3,4,2,1,0])#종속 변수\n",
        "data = tf.keras.utils.to_categorical(arr) #0일 확률, 1일 확률, 2일 확률, 3일 확률, 4일 확률\n",
        "data"
      ],
      "metadata": {
        "id": "eErVKxFWykL7"
      },
      "execution_count": null,
      "outputs": []
    }
  ]
}