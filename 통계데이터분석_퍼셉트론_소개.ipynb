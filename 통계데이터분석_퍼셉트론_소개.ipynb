{
  "nbformat": 4,
  "nbformat_minor": 0,
  "metadata": {
    "colab": {
      "name": "통계데이터분석-퍼셉트론 소개.ipynb",
      "provenance": [],
      "collapsed_sections": [],
      "authorship_tag": "ABX9TyM32ljAGFYjOlLTJoL2XFA1",
      "include_colab_link": true
    },
    "kernelspec": {
      "name": "python3",
      "display_name": "Python 3"
    },
    "language_info": {
      "name": "python"
    }
  },
  "cells": [
    {
      "cell_type": "markdown",
      "metadata": {
        "id": "view-in-github",
        "colab_type": "text"
      },
      "source": [
        "<a href=\"https://colab.research.google.com/github/hyunjung930/Python/blob/hyunjung/%ED%86%B5%EA%B3%84%EB%8D%B0%EC%9D%B4%ED%84%B0%EB%B6%84%EC%84%9D_%ED%8D%BC%EC%85%89%ED%8A%B8%EB%A1%A0_%EC%86%8C%EA%B0%9C.ipynb\" target=\"_parent\"><img src=\"https://colab.research.google.com/assets/colab-badge.svg\" alt=\"Open In Colab\"/></a>"
      ]
    },
    {
      "cell_type": "markdown",
      "source": [
        "퍼센트론: 인간의 뇌세포가 시냅스를 통해 희락 물질을 전달하여 사고하는 과정을 모방\n"
      ],
      "metadata": {
        "id": "VoGBhQIZTBxF"
      }
    },
    {
      "cell_type": "markdown",
      "source": [
        "![image.png](data:image/png;base64,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)"
      ],
      "metadata": {
        "id": "Bsr8vznkSFno"
      }
    },
    {
      "cell_type": "markdown",
      "source": [
        "단층 퍼셉트론으로 두 개의 입력으로 구성한 or, and, xor 논리 회로의 결과물 판별하는 코드를 작성해 보자.\n"
      ],
      "metadata": {
        "id": "eLAk0M7HaRQ8"
      }
    },
    {
      "cell_type": "code",
      "source": [
        "#[[x1,x2,y],[x1,x2,y],...]\n",
        "#0:False, 1:True\n",
        "ds_or = [[0,0,0],[0,1,1],[1,0,1],[1,1,1]]\n",
        "ds_and = [[0,0,0],[0,1,0],[1,0,0],[1,1,1]]\n",
        "ds_xor = [[0,0,0],[0,1,1],[1,0,1],[1,1,0]] #xor: 서로 다르면 true"
      ],
      "metadata": {
        "id": "rHnDuT0vS5e4"
      },
      "execution_count": 23,
      "outputs": []
    },
    {
      "cell_type": "code",
      "execution_count": 24,
      "metadata": {
        "id": "u-u39ERoSAsN"
      },
      "outputs": [],
      "source": [
        "#구해야 하는 값은 x1의 가중치, w1,x2의 가중치 w2, 그 외에 y에 영향을 주는 것b(편향, 임계치)\n",
        "w1,w2,b = 0,0,0\n",
        "def setwb(wt1,wt2,bt): #w1,w2,b를 원하는 값으로 설정하는 함수(원하는 값은 테스트 값)\n",
        "  global w1,w2,b\n",
        "  w1,w2,b = wt1,wt2,bt\n",
        "  "
      ]
    },
    {
      "cell_type": "code",
      "source": [
        "def discriminate(x1,x2): #판별식\n",
        "  if(w1*x1 + w2*x2 + b<=0): #판별식보다 같거나 아래쪽이면 거짓\n",
        "    return 0\n",
        "  else: #판별식보다 크면 참\n",
        "    return 1"
      ],
      "metadata": {
        "id": "8mAqtbF4bugQ"
      },
      "execution_count": 25,
      "outputs": []
    },
    {
      "cell_type": "code",
      "source": [
        "def test(ds,wt1,wt2,bt): #ds에 있는 데이터를 wt1,wt2,bt를 적용했을 때 성적을 테스트하는 함수\n",
        "  setwb(wt1,wt2,bt) #테스트할 wt1,wt2,bt로 설정\n",
        "  ok,total = 0,0 #맞춘 개수와 전체 데이터 개수를 기억할 변수를 0으로 초기화\n",
        "  for x1,x2,y in ds: #ds:3가지 원소값을 갖고있음(ds_or,ds_and_ds_xor)\n",
        "    if discriminate(x1,x2) == y:\n",
        "      ok+=1\n",
        "    total+=1\n",
        "  return ok/total #스코어를 반환 "
      ],
      "metadata": {
        "id": "bY4esZsNcIfT"
      },
      "execution_count": 26,
      "outputs": []
    },
    {
      "cell_type": "code",
      "source": [
        "def myr(s,e,st): #range와 같은 목적의 함수, step이 실수\n",
        "   r = s\n",
        "   while (r<e):\n",
        "     yield r #myr함수를 for문의 in 뒤에 표현했을 때 for와 in 사이의 변수가 갖는 값\n",
        "     r+=st"
      ],
      "metadata": {
        "id": "r8u2d-McdED5"
      },
      "execution_count": 27,
      "outputs": []
    },
    {
      "cell_type": "code",
      "source": [
        "def find_wb(ds): #기계 학습 함수\n",
        "  for wt1 in myr(0,1,0.1): #값은 의도적으로 줌\n",
        "    for wt2 in myr(0,1,0.1):\n",
        "      for bt in myr(-1,1,0.1):\n",
        "        if test(ds,wt1,wt2,bt) ==1.0: #모든 테스트를 했을 떄 성적이 100점일 때\n",
        "          return True #성공\n",
        "  return False #실패 (실제 Deep Learning에서는 가장 높은 점수를 받은 가중치와 편향으로 결정)"
      ],
      "metadata": {
        "id": "2Tu05Bzwd1wv"
      },
      "execution_count": 28,
      "outputs": []
    },
    {
      "cell_type": "code",
      "source": [
        "print(find_wb(ds_or))\n",
        "print(f'w1:{w1} w2:{w2} b:{b}')\n",
        "print(find_wb(ds_and))\n",
        "print(f'w1:{w1} w2:{w2} b:{b}')\n",
        "print(find_wb(ds_xor))"
      ],
      "metadata": {
        "colab": {
          "base_uri": "https://localhost:8080/"
        },
        "id": "VqIszumXexfL",
        "outputId": "04683626-29d0-41ff-bb1f-48022a021191"
      },
      "execution_count": 29,
      "outputs": [
        {
          "output_type": "stream",
          "name": "stdout",
          "text": [
            "True\n",
            "w1:0.1 w2:0.1 b:-1.3877787807814457e-16\n",
            "True\n",
            "w1:0.1 w2:0.1 b:-0.10000000000000014\n",
            "False\n"
          ]
        }
      ]
    }
  ]
}